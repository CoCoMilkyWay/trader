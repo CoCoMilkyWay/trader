{
 "cells": [
  {
   "cell_type": "markdown",
   "source": [
    "# GPLearnFinance3D 功能展示"
   ],
   "metadata": {
    "collapsed": false
   }
  },
  {
   "cell_type": "markdown",
   "source": [
    "必要说明:\n",
    "1. 这个库还支持训练集和验证集的划分。\n",
    "2. 支持通过表达式去筛选符合要求的因子(这个功能是在基础的baseIC的基础上开发的，想到了给不懂代码的人使用直接用字符串能灵活的设计指标)[PS:所有的指标最后都会取交集，也就是说如果你要求训练集IC>0.02,验证集的IC>0.01那么就会返回同时满足这两种的结果]\n",
    "3. 新功能能基于GPLearn自由地选择算子的参数，比如std_8，还是std_5 都是由算法自己去遗传出来。"
   ],
   "metadata": {
    "collapsed": false
   }
  },
  {
   "cell_type": "code",
   "execution_count": 1,
   "metadata": {
    "collapsed": true
   },
   "outputs": [],
   "source": [
    "### 导入相关内容\n",
    "import numpy as np\n",
    "import pandas as pd\n",
    "import genetic\n",
    "from IPython.core.interactiveshell import InteractiveShell\n",
    "import warnings\n",
    "from scipy import stats\n",
    "\n",
    "np.random.seed(10)\n",
    "pd.set_option('display.max_columns', None)\n",
    "pd.set_option('expand_frame_repr', True)\n",
    "pd.set_option('display.unicode.ambiguous_as_wide', True)\n",
    "warnings.filterwarnings('ignore')\n",
    "InteractiveShell.ast_node_interactivity = \"all\"\n",
    "import random\n",
    "\n",
    "from add_ts_function import dynamic_ts_std, dynamic_ts_mean,dynamic_ts_max\n",
    "from functions import _function_map\n",
    "from add_ts_function import _extra_function_map\n",
    "import os"
   ]
  },
  {
   "cell_type": "code",
   "execution_count": 2,
   "outputs": [],
   "source": [
    "def make_XY(df, index_name, columns_name, Y_column1,):\n",
    "    '''\n",
    "    return: X: ndarray[n_dates, n_feature, n_stocks], Y: ndarray[n_dates, n_stocks], X_feature_names\n",
    "    '''\n",
    "    df = df.pivot_table(index=[index_name], columns=[columns_name], sort=True, dropna=False)\n",
    "    Y1 = df.loc[:,(Y_column1,)].to_numpy(dtype=np.double)\n",
    "\n",
    "    df = df.drop([Y_column1,],axis=1)\n",
    "    X_0_len = len(df.index)\n",
    "    # df.columns.levels[0] not change after drop\n",
    "    X_1_len = len(df.columns.levels[0]) - 1\n",
    "    X_2_len = len(df.columns.levels[1])\n",
    "    return df.to_numpy(dtype=np.double).reshape((X_0_len, X_1_len, X_2_len)), Y1, df.columns.levels[0].drop([Y_column1,])\n"
   ],
   "metadata": {
    "collapsed": false
   }
  },
  {
   "cell_type": "code",
   "execution_count": 3,
   "outputs": [],
   "source": [
    "stock_path = \"D:\\\\FinanceStock\\\\FinanceDatabase_xbx\\\\stock-trading-data-pro\\\\\"\n",
    "all_stocks = os.listdir(stock_path)\n",
    "numbers = 0\n",
    "total_df = pd.DataFrame()\n",
    "input_features = [\"股票代码\",\"交易日期\",\"开盘价\",\"最高价\",\"最低价\",\"收盘价\",\"成交量\",\"成交额\",\"收益率\"]\n",
    "different_axis = (\"交易日期\",\"股票代码\", \"收益率\",)\n",
    "################################################################################################\n",
    "# 构建训练集\n",
    "total_train_df = pd.DataFrame()\n",
    "begin_year = pd.Timestamp('2017-01-01')\n",
    "stop_year = pd.Timestamp('2018-01-01')\n",
    "\n",
    "# 构建验证集\n",
    "total_eval_df = pd.DataFrame()\n",
    "eval_begin_year = pd.Timestamp('2018-01-01')\n",
    "eval_stop_year = pd.Timestamp('2019-01-01')"
   ],
   "metadata": {
    "collapsed": false
   }
  },
  {
   "cell_type": "code",
   "execution_count": 4,
   "outputs": [
    {
     "name": "stdout",
     "output_type": "stream",
     "text": [
      "21\r"
     ]
    }
   ],
   "source": [
    "# 加载所有股票，这里为了演示就只加载了20只\n",
    "for stock in all_stocks:\n",
    "    if stock[:2]!='bj' and stock[:4]!='sh68' and stock[:4]!='sz30' and numbers<=20:\n",
    "        numbers+=1\n",
    "        train_df = pd.read_csv(stock_path+stock,encoding='gbk',skiprows=[0],parse_dates=[\"交易日期\"])\n",
    "        train_df = train_df[(train_df[\"交易日期\"] < stop_year) & (train_df[\"交易日期\"] >= begin_year)]\n",
    "        # 验证集部分\n",
    "        eval_df = pd.read_csv(stock_path + stock, encoding='gbk', skiprows=[0], parse_dates=[\"交易日期\"])\n",
    "        eval_df = eval_df[(eval_df[\"交易日期\"] < eval_stop_year) & (eval_df[\"交易日期\"] >= eval_begin_year)]\n",
    "        if len(train_df)<=0 or len(eval_df)<=0:\n",
    "            continue\n",
    "        # 训练集部分\n",
    "        train_df[\"收益率\"] = train_df[\"收盘价\"].shift(-1) / train_df[\"收盘价\"] - 1\n",
    "        train_df.dropna(subset=[\"收益率\"],inplace=True)\n",
    "        total_train_df = pd.concat([total_train_df,train_df],ignore_index=True)\n",
    "\n",
    "\n",
    "        eval_df[\"收益率\"] = eval_df[\"收盘价\"].shift(-1) / eval_df[\"收盘价\"] - 1\n",
    "        eval_df.dropna(subset=[\"收益率\"], inplace=True)\n",
    "        total_eval_df = pd.concat([total_eval_df, eval_df], ignore_index=True)\n",
    "        print(str(numbers)+'\\r',end='')\n",
    "total_train_df.reset_index(inplace=True,drop=True)\n",
    "total_train_df = total_train_df[input_features]\n",
    "train_X,train_Y, feature_names = make_XY(total_train_df, *different_axis)\n",
    "\n",
    "total_eval_df.reset_index(inplace=True,drop=True)\n",
    "total_eval_df = total_eval_df[input_features]\n",
    "eval_X,eval_Y, _ = make_XY(total_eval_df, *different_axis)"
   ],
   "metadata": {
    "collapsed": false
   }
  },
  {
   "cell_type": "code",
   "execution_count": 5,
   "outputs": [],
   "source": [
    "X = np.concatenate([train_X,eval_X],axis=0)\n",
    "Y = np.concatenate([train_Y,eval_Y],axis=0)\n",
    "X_feature_names = feature_names\n",
    "sample_weight = []\n",
    "sample_weight.extend([1]*train_X.shape[0])\n",
    "sample_weight.extend([0]*eval_X.shape[0])\n",
    "sample_weight = np.array(sample_weight)"
   ],
   "metadata": {
    "collapsed": false
   }
  },
  {
   "cell_type": "code",
   "execution_count": 6,
   "outputs": [],
   "source": [
    "\n",
    "function_set_sample = ['common_add', 'common_sub', 'common_mul', 'common_div',\n",
    "                       'common_log', 'common_sqrt', 'common_abs', 'common_inv', 'common_max', 'common_min', 'common_tan',] #'std_10'\n",
    "my_function = [dynamic_ts_std, dynamic_ts_mean,dynamic_ts_max]\n",
    "function_set = function_set_sample + my_function"
   ],
   "metadata": {
    "collapsed": false
   }
  },
  {
   "cell_type": "code",
   "execution_count": 7,
   "outputs": [],
   "source": [
    "# 这里的metric的填写是基于fitness.py 文件中的map里面的key值 时间问题这里就展示两个generation\n",
    "gp_sample = genetic.SymbolicTransformer(generations=2,\n",
    "                                        population_size=200,\n",
    "                                        tournament_size=10,\n",
    "                                        init_depth=(1, 3),\n",
    "                                        hall_of_fame=100,\n",
    "                                        n_components=10,\n",
    "                                        function_set=function_set,\n",
    "                                        metric=\"pearson_3d\",\n",
    "                                        const_range=(-1, 1),\n",
    "                                        p_crossover=0.4,\n",
    "                                        p_hoist_mutation=0.001,\n",
    "                                        p_subtree_mutation=0.01,\n",
    "                                        p_point_mutation=0.01,\n",
    "                                        p_point_replace=0.4,\n",
    "                                        parsimony_coefficient=\"auto\",\n",
    "                                        feature_names=X_feature_names,\n",
    "                                        max_samples=1, verbose=1,\n",
    "                                        random_state=0, n_jobs=-2)"
   ],
   "metadata": {
    "collapsed": false
   }
  },
  {
   "cell_type": "markdown",
   "source": [
    "#### 规定 范围: TRA 表示train OOB 表示样本外 TOT表示 total\n",
    "#### 同时 所有的指标都在fitness 的 _extra_map中 想要使用这个功能只需要按照 “范围 标准”的格式就行了\n",
    "#### 其中, 所谓标准的写法就是，指定fitness中的函数写一个表达式，这个表达式要能满足在\" if expression:\" 下也能正确表述即可."
   ],
   "metadata": {
    "collapsed": false
   }
  },
  {
   "cell_type": "code",
   "execution_count": 8,
   "outputs": [
    {
     "name": "stdout",
     "output_type": "stream",
     "text": [
      "    |   Population Average    |             Best Individual              |\n",
      "---- ------------------------- ------------------------------------------ ----------\n",
      " Gen   Length          Fitness   Length          Fitness      OOB Fitness  Time Left\n",
      "   0     4.62        0.0137286        6        0.0392091              N/A      1.14m\n",
      "   1     4.96        0.0277804        7        0.0463986              N/A      0.00s\n"
     ]
    },
    {
     "data": {
      "text/plain": "SymbolicTransformer(const_range=(-1, 1),\n                    feature_names=Index(['开盘价', '成交量', '成交额', '收盘价', '最低价', '最高价'], dtype='object'),\n                    function_set=['common_add', 'common_sub', 'common_mul',\n                                  'common_div', 'common_log', 'common_sqrt',\n                                  'common_abs', 'common_inv', 'common_max',\n                                  'common_min', 'common_tan',\n                                  <functions._Function object at 0x00000173748F3090>,\n                                  <functions._Function object at 0x00000173748F30D0>,\n                                  <functions._Function object at 0x00000173748F3110>],\n                    generations=2, init_depth=(1, 3), max_samples=1,\n                    metric='pearson_3d', n_jobs=-2, p_crossover=0.4,\n                    p_hoist_mutation=0.001, p_point_replace=0.4,\n                    parsimony_coefficient='auto', population_size=200,\n                    random_state=0, tournament_size=10, verbose=1)",
      "text/html": "<style>#sk-container-id-1 {color: black;background-color: white;}#sk-container-id-1 pre{padding: 0;}#sk-container-id-1 div.sk-toggleable {background-color: white;}#sk-container-id-1 label.sk-toggleable__label {cursor: pointer;display: block;width: 100%;margin-bottom: 0;padding: 0.3em;box-sizing: border-box;text-align: center;}#sk-container-id-1 label.sk-toggleable__label-arrow:before {content: \"▸\";float: left;margin-right: 0.25em;color: #696969;}#sk-container-id-1 label.sk-toggleable__label-arrow:hover:before {color: black;}#sk-container-id-1 div.sk-estimator:hover label.sk-toggleable__label-arrow:before {color: black;}#sk-container-id-1 div.sk-toggleable__content {max-height: 0;max-width: 0;overflow: hidden;text-align: left;background-color: #f0f8ff;}#sk-container-id-1 div.sk-toggleable__content pre {margin: 0.2em;color: black;border-radius: 0.25em;background-color: #f0f8ff;}#sk-container-id-1 input.sk-toggleable__control:checked~div.sk-toggleable__content {max-height: 200px;max-width: 100%;overflow: auto;}#sk-container-id-1 input.sk-toggleable__control:checked~label.sk-toggleable__label-arrow:before {content: \"▾\";}#sk-container-id-1 div.sk-estimator input.sk-toggleable__control:checked~label.sk-toggleable__label {background-color: #d4ebff;}#sk-container-id-1 div.sk-label input.sk-toggleable__control:checked~label.sk-toggleable__label {background-color: #d4ebff;}#sk-container-id-1 input.sk-hidden--visually {border: 0;clip: rect(1px 1px 1px 1px);clip: rect(1px, 1px, 1px, 1px);height: 1px;margin: -1px;overflow: hidden;padding: 0;position: absolute;width: 1px;}#sk-container-id-1 div.sk-estimator {font-family: monospace;background-color: #f0f8ff;border: 1px dotted black;border-radius: 0.25em;box-sizing: border-box;margin-bottom: 0.5em;}#sk-container-id-1 div.sk-estimator:hover {background-color: #d4ebff;}#sk-container-id-1 div.sk-parallel-item::after {content: \"\";width: 100%;border-bottom: 1px solid gray;flex-grow: 1;}#sk-container-id-1 div.sk-label:hover label.sk-toggleable__label {background-color: #d4ebff;}#sk-container-id-1 div.sk-serial::before {content: \"\";position: absolute;border-left: 1px solid gray;box-sizing: border-box;top: 0;bottom: 0;left: 50%;z-index: 0;}#sk-container-id-1 div.sk-serial {display: flex;flex-direction: column;align-items: center;background-color: white;padding-right: 0.2em;padding-left: 0.2em;position: relative;}#sk-container-id-1 div.sk-item {position: relative;z-index: 1;}#sk-container-id-1 div.sk-parallel {display: flex;align-items: stretch;justify-content: center;background-color: white;position: relative;}#sk-container-id-1 div.sk-item::before, #sk-container-id-1 div.sk-parallel-item::before {content: \"\";position: absolute;border-left: 1px solid gray;box-sizing: border-box;top: 0;bottom: 0;left: 50%;z-index: -1;}#sk-container-id-1 div.sk-parallel-item {display: flex;flex-direction: column;z-index: 1;position: relative;background-color: white;}#sk-container-id-1 div.sk-parallel-item:first-child::after {align-self: flex-end;width: 50%;}#sk-container-id-1 div.sk-parallel-item:last-child::after {align-self: flex-start;width: 50%;}#sk-container-id-1 div.sk-parallel-item:only-child::after {width: 0;}#sk-container-id-1 div.sk-dashed-wrapped {border: 1px dashed gray;margin: 0 0.4em 0.5em 0.4em;box-sizing: border-box;padding-bottom: 0.4em;background-color: white;}#sk-container-id-1 div.sk-label label {font-family: monospace;font-weight: bold;display: inline-block;line-height: 1.2em;}#sk-container-id-1 div.sk-label-container {text-align: center;}#sk-container-id-1 div.sk-container {/* jupyter's `normalize.less` sets `[hidden] { display: none; }` but bootstrap.min.css set `[hidden] { display: none !important; }` so we also need the `!important` here to be able to override the default hidden behavior on the sphinx rendered scikit-learn.org. See: https://github.com/scikit-learn/scikit-learn/issues/21755 */display: inline-block !important;position: relative;}#sk-container-id-1 div.sk-text-repr-fallback {display: none;}</style><div id=\"sk-container-id-1\" class=\"sk-top-container\"><div class=\"sk-text-repr-fallback\"><pre>[common_mul(common_add(common_inv(最低价), 成交额), dynamic_ts_max(成交额,40)),\n common_tan(common_min(收盘价, common_sub(成交量, 成交额))),\n common_max(dynamic_ts_max(common_mul(成交量, 最高价),38), common_abs(成交额)),\n common_mul(最高价, 成交量),\n common_min(common_sqrt(common_sub(最低价, 开盘价)), common_inv(common_inv(开盘价))),\n common_min(common_sqrt(0.627), common_log(开盘价)),\n dynamic_ts_max(common_add(收盘价, 成交量),38),\n dynamic_ts_std(common_sub(成交额, 最高价),56),\n common_mul(收盘价, 成交额),\n common_div(最低价, 收盘价)]</pre><b>In a Jupyter environment, please rerun this cell to show the HTML representation or trust the notebook. <br />On GitHub, the HTML representation is unable to render, please try loading this page with nbviewer.org.</b></div><div class=\"sk-container\" hidden><div class=\"sk-item\"><div class=\"sk-estimator sk-toggleable\"><input class=\"sk-toggleable__control sk-hidden--visually\" id=\"sk-estimator-id-1\" type=\"checkbox\" checked><label for=\"sk-estimator-id-1\" class=\"sk-toggleable__label sk-toggleable__label-arrow\">SymbolicTransformer</label><div class=\"sk-toggleable__content\"><pre>[common_mul(common_add(common_inv(最低价), 成交额), dynamic_ts_max(成交额,40)),\n common_tan(common_min(收盘价, common_sub(成交量, 成交额))),\n common_max(dynamic_ts_max(common_mul(成交量, 最高价),38), common_abs(成交额)),\n common_mul(最高价, 成交量),\n common_min(common_sqrt(common_sub(最低价, 开盘价)), common_inv(common_inv(开盘价))),\n common_min(common_sqrt(0.627), common_log(开盘价)),\n dynamic_ts_max(common_add(收盘价, 成交量),38),\n dynamic_ts_std(common_sub(成交额, 最高价),56),\n common_mul(收盘价, 成交额),\n common_div(最低价, 收盘价)]</pre></div></div></div></div></div>"
     },
     "execution_count": 8,
     "metadata": {},
     "output_type": "execute_result"
    }
   ],
   "source": [
    "gp_sample.fit_3D(X, Y,feature_names,sample_weight=sample_weight,standard_expression=\"TRA ((pearson_3d>=0.02) and (spearman_3d >=0.002)) OOB (pearson_3d>0.0002)\",need_parallel=True)\n"
   ],
   "metadata": {
    "collapsed": false
   }
  },
  {
   "cell_type": "code",
   "execution_count": 9,
   "outputs": [],
   "source": [
    "# 展示一下基于指定的表达式追踪下来的所有结果，result只有10个最后一代最好的结果，show_tracing会保留所有符合标准的结果\n",
    "result = gp_sample.show_program(X,Y,sample_weight=sample_weight,feature_names=X_feature_names,baseIC=False,show_tracing=(True,\"./show_tracing.csv\"))\n",
    "result.to_csv(\"./result_only10.csv\")"
   ],
   "metadata": {
    "collapsed": false
   }
  },
  {
   "cell_type": "code",
   "execution_count": 12,
   "outputs": [
    {
     "data": {
      "text/plain": "-0.039209066731274084"
     },
     "execution_count": 12,
     "metadata": {},
     "output_type": "execute_result"
    }
   ],
   "source": [
    "# 挑选一个因子进行复现\n",
    "# common_tan(common_min(收盘价, common_sub(成交量, 成交额))) -0.0392090667312741\n",
    "total_train_df[\"min_factor\"] =np.minimum(total_train_df[\"收盘价\"],np.subtract(total_train_df[\"成交量\"],total_train_df[\"成交额\"]))\n",
    "total_train_df[\"factor\"] = np.tan(total_train_df[\"min_factor\"])\n",
    "result = total_train_df.groupby(\"交易日期\").apply(lambda x : x[\"factor\"].corr(x[\"收益率\"])).mean()\n",
    "result"
   ],
   "metadata": {
    "collapsed": false
   }
  },
  {
   "cell_type": "code",
   "execution_count": 14,
   "outputs": [
    {
     "data": {
      "text/plain": "-0.03192147687530125"
     },
     "execution_count": 14,
     "metadata": {},
     "output_type": "execute_result"
    }
   ],
   "source": [
    "# dynamic_ts_std(common_sub(成交额, 最高价),56) -0.03192147687530125\n",
    "total_train_df[\"Factor1\"] = np.subtract(total_train_df[\"成交额\"],total_train_df[\"最高价\"])\n",
    "total_train_df[\"factor\"] = total_train_df.groupby(\"股票代码\").apply(lambda x :x[\"Factor1\"].rolling(56).std()).reset_index()[\"Factor1\"]\n",
    "result = total_train_df.groupby(\"交易日期\").apply(lambda x : x[\"factor\"].corr(x[\"收益率\"])).mean()\n",
    "result"
   ],
   "metadata": {
    "collapsed": false
   }
  },
  {
   "cell_type": "code",
   "execution_count": null,
   "outputs": [],
   "source": [],
   "metadata": {
    "collapsed": false
   }
  },
  {
   "cell_type": "code",
   "execution_count": null,
   "outputs": [],
   "source": [],
   "metadata": {
    "collapsed": false
   }
  },
  {
   "cell_type": "code",
   "execution_count": null,
   "outputs": [],
   "source": [],
   "metadata": {
    "collapsed": false
   }
  },
  {
   "cell_type": "code",
   "execution_count": null,
   "outputs": [],
   "source": [],
   "metadata": {
    "collapsed": false
   }
  },
  {
   "cell_type": "code",
   "execution_count": null,
   "outputs": [],
   "source": [],
   "metadata": {
    "collapsed": false
   }
  }
 ],
 "metadata": {
  "kernelspec": {
   "display_name": "Python 3",
   "language": "python",
   "name": "python3"
  },
  "language_info": {
   "codemirror_mode": {
    "name": "ipython",
    "version": 2
   },
   "file_extension": ".py",
   "mimetype": "text/x-python",
   "name": "python",
   "nbconvert_exporter": "python",
   "pygments_lexer": "ipython2",
   "version": "2.7.6"
  }
 },
 "nbformat": 4,
 "nbformat_minor": 0
}
