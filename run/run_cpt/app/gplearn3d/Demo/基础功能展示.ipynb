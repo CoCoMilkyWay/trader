{
 "cells": [
  {
   "cell_type": "markdown",
   "source": [
    "# GPLearnFinance3D 功能展示"
   ],
   "metadata": {
    "collapsed": false
   }
  },
  {
   "cell_type": "markdown",
   "source": [
    "必要说明:\n",
    "1. add_ts_function.py是一个自定义的算子库，在这个里面我们可以自由地定义自己想要的算子。其中我也给大家提供了一些可用的基本算子，这些算子我都检查过，是可以使用的.但目前的架构中，需要注意函数的名字不能存在包含关系，原因很简单，我写的是replace，如果有名称的包含关系很可能就出现错误了。以后有时间再改，先写到这个程度能用就行了hhh。\n",
    "2. 平时使用的时候，有两种方案：1.（个人推荐）直接在这个文件夹GPLearnFinance3D里面另起一个文件直接用。2.把它放到你需要运行的Python的Site-Packages里面，然后当你的算子确定之后就把add_ts_function.py替换进去。就能直接import了\n"
   ],
   "metadata": {
    "collapsed": false
   }
  },
  {
   "cell_type": "code",
   "execution_count": 1,
   "metadata": {
    "collapsed": true
   },
   "outputs": [],
   "source": [
    "### 导入相关内容\n",
    "import warnings\n",
    "import os\n",
    "import  numpy as np\n",
    "import pandas as pd\n",
    "from add_ts_function import ts_std_10, ts_max_10,  ts_mean_10\n",
    "import genetic\n",
    "np.random.seed(10)\n",
    "pd.set_option('display.max_columns', None)\n",
    "pd.set_option('expand_frame_repr', True)\n",
    "pd.set_option('display.unicode.ambiguous_as_wide', True)\n",
    "warnings.filterwarnings('ignore')\n"
   ]
  },
  {
   "cell_type": "code",
   "execution_count": 2,
   "outputs": [],
   "source": [
    "# 常量定义\n",
    "stock_path = \"D:\\\\FinanceStock\\\\FinanceDatabase_xbx\\\\stock-trading-data-pro\\\\\"\n",
    "all_stocks = os.listdir(stock_path)\n",
    "numbers = 0\n",
    "total_df = pd.DataFrame()\n",
    "begin_year = pd.Timestamp('2017-01-01')\n",
    "stop_year = pd.Timestamp('2019-01-01')"
   ],
   "metadata": {
    "collapsed": false
   }
  },
  {
   "cell_type": "code",
   "execution_count": 3,
   "outputs": [
    {
     "name": "stdout",
     "output_type": "stream",
     "text": [
      "18\n"
     ]
    }
   ],
   "source": [
    "# 加载所有股票，这里为了演示就只加载了20只\n",
    "for stock in all_stocks:\n",
    "    if stock[:2]!='bj' and stock[:4]!='sh68' and stock[:4]!='sz30' and numbers<=20:\n",
    "        numbers+=1\n",
    "        cur_df = pd.read_csv(stock_path+stock,encoding='gbk',skiprows=[0],parse_dates=[\"交易日期\"])\n",
    "        cur_df = cur_df[(cur_df[\"交易日期\"]<=stop_year)&(cur_df[\"交易日期\"]>=begin_year)]\n",
    "        cur_df[\"收益率\"] = cur_df[\"收盘价\"].shift(-1) / cur_df[\"收盘价\"] - 1\n",
    "        cur_df.dropna(subset=[\"收益率\"],inplace=True)\n",
    "        total_df = pd.concat([total_df,cur_df],ignore_index=True)\n",
    "total_df.reset_index(inplace=True,drop=True)\n",
    "total_df = total_df[[\"股票代码\",\"交易日期\",\"开盘价\",\"最高价\",\"最低价\",\"收盘价\",\"成交量\",\"成交额\",\"收益率\"]]\n",
    "print(len(total_df[\"股票代码\"].unique()))"
   ],
   "metadata": {
    "collapsed": false
   }
  },
  {
   "cell_type": "code",
   "execution_count": 4,
   "outputs": [],
   "source": [
    "#二位转三维的函数\n",
    "def make_XY(df, index_name, columns_name, Y_column,):\n",
    "    '''\n",
    "\n",
    "    Args:\n",
    "        df: 输入的dataFrame shape:[trade_dates * stocks,features] [stock000001(trade_dates,features),stock000002(trade_dates,features)...]\n",
    "        index_name: 交易日期\n",
    "        columns_name: 股票名称\n",
    "        Y_column1: 预测的对象\n",
    "\n",
    "    Returns: X,Y,feature_names\n",
    "\n",
    "    '''\n",
    "    df = df.pivot_table(index=[index_name], columns=[columns_name], sort=True, dropna=False)\n",
    "    Y1 = df.loc[:,(Y_column,)].to_numpy(dtype=np.double)\n",
    "\n",
    "    df = df.drop([Y_column,],axis=1)\n",
    "    X_0_len = len(df.index)\n",
    "\n",
    "    X_1_len = len(df.columns.levels[0]) - 1\n",
    "    X_2_len = len(df.columns.levels[1])\n",
    "    return df.to_numpy(dtype=np.double).reshape((X_0_len, X_1_len, X_2_len)), Y1, df.columns.levels[0].drop([Y_column,])\n"
   ],
   "metadata": {
    "collapsed": false
   }
  },
  {
   "cell_type": "code",
   "execution_count": 5,
   "outputs": [],
   "source": [
    "X,Y1, X_feature_names = make_XY(total_df, \"交易日期\",\"股票代码\", \"收益率\",)\n",
    "function_set_sample = ['common_add', 'common_sub', 'common_mul', 'common_div',\n",
    "                       'common_log', 'common_sqrt', 'common_abs', 'common_inv', 'common_max', 'common_min', 'common_tan',] #'std_10'\n",
    "my_function = [ts_std_10, ts_max_10,  ts_mean_10,]\n",
    "function_set = function_set_sample + my_function"
   ],
   "metadata": {
    "collapsed": false
   }
  },
  {
   "cell_type": "code",
   "execution_count": 6,
   "outputs": [
    {
     "name": "stdout",
     "output_type": "stream",
     "text": [
      "(8132, 9)\n",
      "(486, 6, 18)\n",
      "(486, 18)\n"
     ]
    }
   ],
   "source": [
    "print(total_df.shape)\n",
    "print(X.shape)\n",
    "print(Y1.shape)"
   ],
   "metadata": {
    "collapsed": false
   }
  },
  {
   "cell_type": "code",
   "execution_count": 7,
   "outputs": [],
   "source": [
    "# 这里的metric的填写是基于fitness.py 文件中的map里面的key值 时间问题这里就展示两个generation\n",
    "gp_sample = genetic.SymbolicTransformer(generations=2,\n",
    "                                        population_size=200,\n",
    "                                        tournament_size=10,\n",
    "                                        init_depth=(1, 3),\n",
    "                                        hall_of_fame=100,\n",
    "                                        n_components=10,\n",
    "                                        function_set=function_set,\n",
    "                                        metric=\"pearson_3d\",\n",
    "                                        const_range=(-1, 1),\n",
    "                                        p_crossover=0.4,\n",
    "                                        p_hoist_mutation=0.001,\n",
    "                                        p_subtree_mutation=0.01,\n",
    "                                        p_point_mutation=0.01,\n",
    "                                        p_point_replace=0.4,\n",
    "                                        parsimony_coefficient=\"auto\",\n",
    "                                        feature_names=X_feature_names,\n",
    "                                        max_samples=1, verbose=1,\n",
    "                                        random_state=0, n_jobs=-2)"
   ],
   "metadata": {
    "collapsed": false
   }
  },
  {
   "cell_type": "code",
   "execution_count": 8,
   "outputs": [
    {
     "name": "stdout",
     "output_type": "stream",
     "text": [
      "    |   Population Average    |             Best Individual              |\n",
      "---- ------------------------- ------------------------------------------ ----------\n",
      " Gen   Length          Fitness   Length          Fitness      OOB Fitness  Time Left\n",
      "   0     4.55        0.0147213        9         0.071606              N/A     21.67s\n",
      "   1     4.90        0.0264698        9         0.071606              N/A      0.00s\n"
     ]
    },
    {
     "data": {
      "text/plain": "SymbolicTransformer(const_range=(-1, 1),\n                    feature_names=Index(['开盘价', '成交量', '成交额', '收盘价', '最低价', '最高价'], dtype='object'),\n                    function_set=['common_add', 'common_sub', 'common_mul',\n                                  'common_div', 'common_log', 'common_sqrt',\n                                  'common_abs', 'common_inv', 'common_max',\n                                  'common_min', 'common_tan',\n                                  <functions._Function object at 0x0000029B40D07CD0>,\n                                  <functions._Function object at 0x0000029B40D18990>,\n                                  <functions._Function object at 0x0000029B40D07C90>],\n                    generations=2, init_depth=(1, 3), max_samples=1,\n                    metric='pearson_3d', n_jobs=-2, p_crossover=0.4,\n                    p_hoist_mutation=0.001, p_point_replace=0.4,\n                    parsimony_coefficient='auto', population_size=200,\n                    random_state=0, tournament_size=10, verbose=1)",
      "text/html": "<style>#sk-container-id-1 {color: black;background-color: white;}#sk-container-id-1 pre{padding: 0;}#sk-container-id-1 div.sk-toggleable {background-color: white;}#sk-container-id-1 label.sk-toggleable__label {cursor: pointer;display: block;width: 100%;margin-bottom: 0;padding: 0.3em;box-sizing: border-box;text-align: center;}#sk-container-id-1 label.sk-toggleable__label-arrow:before {content: \"▸\";float: left;margin-right: 0.25em;color: #696969;}#sk-container-id-1 label.sk-toggleable__label-arrow:hover:before {color: black;}#sk-container-id-1 div.sk-estimator:hover label.sk-toggleable__label-arrow:before {color: black;}#sk-container-id-1 div.sk-toggleable__content {max-height: 0;max-width: 0;overflow: hidden;text-align: left;background-color: #f0f8ff;}#sk-container-id-1 div.sk-toggleable__content pre {margin: 0.2em;color: black;border-radius: 0.25em;background-color: #f0f8ff;}#sk-container-id-1 input.sk-toggleable__control:checked~div.sk-toggleable__content {max-height: 200px;max-width: 100%;overflow: auto;}#sk-container-id-1 input.sk-toggleable__control:checked~label.sk-toggleable__label-arrow:before {content: \"▾\";}#sk-container-id-1 div.sk-estimator input.sk-toggleable__control:checked~label.sk-toggleable__label {background-color: #d4ebff;}#sk-container-id-1 div.sk-label input.sk-toggleable__control:checked~label.sk-toggleable__label {background-color: #d4ebff;}#sk-container-id-1 input.sk-hidden--visually {border: 0;clip: rect(1px 1px 1px 1px);clip: rect(1px, 1px, 1px, 1px);height: 1px;margin: -1px;overflow: hidden;padding: 0;position: absolute;width: 1px;}#sk-container-id-1 div.sk-estimator {font-family: monospace;background-color: #f0f8ff;border: 1px dotted black;border-radius: 0.25em;box-sizing: border-box;margin-bottom: 0.5em;}#sk-container-id-1 div.sk-estimator:hover {background-color: #d4ebff;}#sk-container-id-1 div.sk-parallel-item::after {content: \"\";width: 100%;border-bottom: 1px solid gray;flex-grow: 1;}#sk-container-id-1 div.sk-label:hover label.sk-toggleable__label {background-color: #d4ebff;}#sk-container-id-1 div.sk-serial::before {content: \"\";position: absolute;border-left: 1px solid gray;box-sizing: border-box;top: 0;bottom: 0;left: 50%;z-index: 0;}#sk-container-id-1 div.sk-serial {display: flex;flex-direction: column;align-items: center;background-color: white;padding-right: 0.2em;padding-left: 0.2em;position: relative;}#sk-container-id-1 div.sk-item {position: relative;z-index: 1;}#sk-container-id-1 div.sk-parallel {display: flex;align-items: stretch;justify-content: center;background-color: white;position: relative;}#sk-container-id-1 div.sk-item::before, #sk-container-id-1 div.sk-parallel-item::before {content: \"\";position: absolute;border-left: 1px solid gray;box-sizing: border-box;top: 0;bottom: 0;left: 50%;z-index: -1;}#sk-container-id-1 div.sk-parallel-item {display: flex;flex-direction: column;z-index: 1;position: relative;background-color: white;}#sk-container-id-1 div.sk-parallel-item:first-child::after {align-self: flex-end;width: 50%;}#sk-container-id-1 div.sk-parallel-item:last-child::after {align-self: flex-start;width: 50%;}#sk-container-id-1 div.sk-parallel-item:only-child::after {width: 0;}#sk-container-id-1 div.sk-dashed-wrapped {border: 1px dashed gray;margin: 0 0.4em 0.5em 0.4em;box-sizing: border-box;padding-bottom: 0.4em;background-color: white;}#sk-container-id-1 div.sk-label label {font-family: monospace;font-weight: bold;display: inline-block;line-height: 1.2em;}#sk-container-id-1 div.sk-label-container {text-align: center;}#sk-container-id-1 div.sk-container {/* jupyter's `normalize.less` sets `[hidden] { display: none; }` but bootstrap.min.css set `[hidden] { display: none !important; }` so we also need the `!important` here to be able to override the default hidden behavior on the sphinx rendered scikit-learn.org. See: https://github.com/scikit-learn/scikit-learn/issues/21755 */display: inline-block !important;position: relative;}#sk-container-id-1 div.sk-text-repr-fallback {display: none;}</style><div id=\"sk-container-id-1\" class=\"sk-top-container\"><div class=\"sk-text-repr-fallback\"><pre>[common_div(common_sqrt(common_mul(收盘价, 成交量)), common_sqrt(common_max(最高价, 成交额))),\n common_div(最低价, 收盘价),\n ts_mean_10(common_log(common_min(0.717, 开盘价))),\n common_max(common_sub(common_abs(0.660), ts_max_10(成交量)), common_mul(成交额, 成交量)),\n ts_std_10(ts_std_10(成交额)),\n common_add(common_add(common_mul(成交量, 收盘价), common_add(成交量, 收盘价)), common_add(成交量, 收盘价)),\n common_add(common_abs(common_mul(成交额, 成交量)), common_add(成交量, 收盘价)),\n common_div(common_abs(common_mul(成交额, 成交量)), common_sqrt(common_max(最高价, 成交额))),\n common_sub(最低价, 收盘价),\n common_inv(ts_max_10(common_div(收盘价, 成交额)))]</pre><b>In a Jupyter environment, please rerun this cell to show the HTML representation or trust the notebook. <br />On GitHub, the HTML representation is unable to render, please try loading this page with nbviewer.org.</b></div><div class=\"sk-container\" hidden><div class=\"sk-item\"><div class=\"sk-estimator sk-toggleable\"><input class=\"sk-toggleable__control sk-hidden--visually\" id=\"sk-estimator-id-1\" type=\"checkbox\" checked><label for=\"sk-estimator-id-1\" class=\"sk-toggleable__label sk-toggleable__label-arrow\">SymbolicTransformer</label><div class=\"sk-toggleable__content\"><pre>[common_div(common_sqrt(common_mul(收盘价, 成交量)), common_sqrt(common_max(最高价, 成交额))),\n common_div(最低价, 收盘价),\n ts_mean_10(common_log(common_min(0.717, 开盘价))),\n common_max(common_sub(common_abs(0.660), ts_max_10(成交量)), common_mul(成交额, 成交量)),\n ts_std_10(ts_std_10(成交额)),\n common_add(common_add(common_mul(成交量, 收盘价), common_add(成交量, 收盘价)), common_add(成交量, 收盘价)),\n common_add(common_abs(common_mul(成交额, 成交量)), common_add(成交量, 收盘价)),\n common_div(common_abs(common_mul(成交额, 成交量)), common_sqrt(common_max(最高价, 成交额))),\n common_sub(最低价, 收盘价),\n common_inv(ts_max_10(common_div(收盘价, 成交额)))]</pre></div></div></div></div></div>"
     },
     "execution_count": 8,
     "metadata": {},
     "output_type": "execute_result"
    }
   ],
   "source": [
    "sample_weight = np.array([1]*len(X))\n",
    "gp_sample.fit_3D(X, Y1,feature_names=X_feature_names,sample_weight=sample_weight,need_parallel=True)"
   ],
   "metadata": {
    "collapsed": false
   }
  },
  {
   "cell_type": "code",
   "execution_count": 9,
   "outputs": [
    {
     "data": {
      "text/plain": "                                                 表达式   fitness  OOB fitness  \\\n0  common_div(common_sqrt(common_mul(收盘价, 成交量)), ...  0.071606          0.0   \n1                               common_div(最低价, 收盘价)  0.058264          0.0   \n2     ts_mean_10(common_log(common_min(0.717, 开盘价)))  0.030272          0.0   \n3  common_max(common_sub(common_abs(0.660), ts_ma...  0.027626          0.0   \n4                          ts_std_10(ts_std_10(成交额))  0.026459          0.0   \n5  common_add(common_add(common_mul(成交量, 收盘价), co...  0.026243          0.0   \n6  common_add(common_abs(common_mul(成交额, 成交量)), c...  0.025854          0.0   \n7  common_div(common_abs(common_mul(成交额, 成交量)), c...  0.025654          0.0   \n8                               common_sub(最低价, 收盘价)  0.025475          0.0   \n9        common_inv(ts_max_10(common_div(收盘价, 成交额)))  0.025246          0.0   \n\n      训练集IC  样本外IC     训练集IR  样本外IR  训练集RankIC  样本外RankIC  \n0 -0.071606    0.0  0.208007    0.0   0.121365        0.0  \n1  0.058264    0.0  0.165544    0.0  -0.143778        0.0  \n2 -0.030272    0.0  0.092371    0.0   0.000000        0.0  \n3 -0.027626    0.0  0.076699    0.0  -0.145136        0.0  \n4 -0.026459    0.0  0.076633    0.0   0.000000        0.0  \n5 -0.026243    0.0  0.070766    0.0  -0.038158        0.0  \n6 -0.025854    0.0  0.070298    0.0  -0.023033        0.0  \n7 -0.025654    0.0  0.069254    0.0  -0.005245        0.0  \n8  0.025475    0.0  0.073628    0.0  -0.053770        0.0  \n9 -0.025246    0.0  0.078344    0.0   0.000000        0.0  ",
      "text/html": "<div>\n<style scoped>\n    .dataframe tbody tr th:only-of-type {\n        vertical-align: middle;\n    }\n\n    .dataframe tbody tr th {\n        vertical-align: top;\n    }\n\n    .dataframe thead th {\n        text-align: right;\n    }\n</style>\n<table border=\"1\" class=\"dataframe\">\n  <thead>\n    <tr style=\"text-align: right;\">\n      <th></th>\n      <th>表达式</th>\n      <th>fitness</th>\n      <th>OOB fitness</th>\n      <th>训练集IC</th>\n      <th>样本外IC</th>\n      <th>训练集IR</th>\n      <th>样本外IR</th>\n      <th>训练集RankIC</th>\n      <th>样本外RankIC</th>\n    </tr>\n  </thead>\n  <tbody>\n    <tr>\n      <th>0</th>\n      <td>common_div(common_sqrt(common_mul(收盘价, 成交量)), ...</td>\n      <td>0.071606</td>\n      <td>0.0</td>\n      <td>-0.071606</td>\n      <td>0.0</td>\n      <td>0.208007</td>\n      <td>0.0</td>\n      <td>0.121365</td>\n      <td>0.0</td>\n    </tr>\n    <tr>\n      <th>1</th>\n      <td>common_div(最低价, 收盘价)</td>\n      <td>0.058264</td>\n      <td>0.0</td>\n      <td>0.058264</td>\n      <td>0.0</td>\n      <td>0.165544</td>\n      <td>0.0</td>\n      <td>-0.143778</td>\n      <td>0.0</td>\n    </tr>\n    <tr>\n      <th>2</th>\n      <td>ts_mean_10(common_log(common_min(0.717, 开盘价)))</td>\n      <td>0.030272</td>\n      <td>0.0</td>\n      <td>-0.030272</td>\n      <td>0.0</td>\n      <td>0.092371</td>\n      <td>0.0</td>\n      <td>0.000000</td>\n      <td>0.0</td>\n    </tr>\n    <tr>\n      <th>3</th>\n      <td>common_max(common_sub(common_abs(0.660), ts_ma...</td>\n      <td>0.027626</td>\n      <td>0.0</td>\n      <td>-0.027626</td>\n      <td>0.0</td>\n      <td>0.076699</td>\n      <td>0.0</td>\n      <td>-0.145136</td>\n      <td>0.0</td>\n    </tr>\n    <tr>\n      <th>4</th>\n      <td>ts_std_10(ts_std_10(成交额))</td>\n      <td>0.026459</td>\n      <td>0.0</td>\n      <td>-0.026459</td>\n      <td>0.0</td>\n      <td>0.076633</td>\n      <td>0.0</td>\n      <td>0.000000</td>\n      <td>0.0</td>\n    </tr>\n    <tr>\n      <th>5</th>\n      <td>common_add(common_add(common_mul(成交量, 收盘价), co...</td>\n      <td>0.026243</td>\n      <td>0.0</td>\n      <td>-0.026243</td>\n      <td>0.0</td>\n      <td>0.070766</td>\n      <td>0.0</td>\n      <td>-0.038158</td>\n      <td>0.0</td>\n    </tr>\n    <tr>\n      <th>6</th>\n      <td>common_add(common_abs(common_mul(成交额, 成交量)), c...</td>\n      <td>0.025854</td>\n      <td>0.0</td>\n      <td>-0.025854</td>\n      <td>0.0</td>\n      <td>0.070298</td>\n      <td>0.0</td>\n      <td>-0.023033</td>\n      <td>0.0</td>\n    </tr>\n    <tr>\n      <th>7</th>\n      <td>common_div(common_abs(common_mul(成交额, 成交量)), c...</td>\n      <td>0.025654</td>\n      <td>0.0</td>\n      <td>-0.025654</td>\n      <td>0.0</td>\n      <td>0.069254</td>\n      <td>0.0</td>\n      <td>-0.005245</td>\n      <td>0.0</td>\n    </tr>\n    <tr>\n      <th>8</th>\n      <td>common_sub(最低价, 收盘价)</td>\n      <td>0.025475</td>\n      <td>0.0</td>\n      <td>0.025475</td>\n      <td>0.0</td>\n      <td>0.073628</td>\n      <td>0.0</td>\n      <td>-0.053770</td>\n      <td>0.0</td>\n    </tr>\n    <tr>\n      <th>9</th>\n      <td>common_inv(ts_max_10(common_div(收盘价, 成交额)))</td>\n      <td>0.025246</td>\n      <td>0.0</td>\n      <td>-0.025246</td>\n      <td>0.0</td>\n      <td>0.078344</td>\n      <td>0.0</td>\n      <td>0.000000</td>\n      <td>0.0</td>\n    </tr>\n  </tbody>\n</table>\n</div>"
     },
     "execution_count": 9,
     "metadata": {},
     "output_type": "execute_result"
    }
   ],
   "source": [
    "result = gp_sample.show_program(X,Y1,X_feature_names,baseIC=False)\n",
    "result"
   ],
   "metadata": {
    "collapsed": false
   }
  },
  {
   "cell_type": "code",
   "execution_count": 10,
   "outputs": [],
   "source": [
    "# 在这个例子里面没有提及如何设置验证集所以看不到OOB 和其他样本外指标这是正常的。fitness 就是训练集IC这是由metric决定的，但训练集IC能看到IC的符号\n",
    "result.to_csv(\"./presentation_result_best_program.csv\")"
   ],
   "metadata": {
    "collapsed": false
   }
  },
  {
   "cell_type": "code",
   "execution_count": 11,
   "outputs": [
    {
     "name": "stdout",
     "output_type": "stream",
     "text": [
      "    |   Population Average    |             Best Individual              |\n",
      "---- ------------------------- ------------------------------------------ ----------\n",
      " Gen   Length          Fitness   Length          Fitness      OOB Fitness  Time Left\n",
      "   0     4.55        0.0147213        9         0.071606              N/A     17.98s\n",
      "   1     4.90        0.0264698        9         0.071606              N/A      0.00s\n"
     ]
    },
    {
     "data": {
      "text/plain": "SymbolicTransformer(const_range=(-1, 1),\n                    feature_names=Index(['开盘价', '成交量', '成交额', '收盘价', '最低价', '最高价'], dtype='object'),\n                    function_set=['common_add', 'common_sub', 'common_mul',\n                                  'common_div', 'common_log', 'common_sqrt',\n                                  'common_abs', 'common_inv', 'common_max',\n                                  'common_min', 'common_tan',\n                                  <functions._Function object at 0x0000029B40D07CD0>,\n                                  <functions._Function object at 0x0000029B40D18990>,\n                                  <functions._Function object at 0x0000029B40D07C90>],\n                    generations=2, init_depth=(1, 3), max_samples=1,\n                    metric='pearson_3d', n_jobs=-2, p_crossover=0.4,\n                    p_hoist_mutation=0.001, p_point_replace=0.4,\n                    parsimony_coefficient='auto', population_size=200,\n                    random_state=0, tournament_size=10, verbose=1)",
      "text/html": "<style>#sk-container-id-2 {color: black;background-color: white;}#sk-container-id-2 pre{padding: 0;}#sk-container-id-2 div.sk-toggleable {background-color: white;}#sk-container-id-2 label.sk-toggleable__label {cursor: pointer;display: block;width: 100%;margin-bottom: 0;padding: 0.3em;box-sizing: border-box;text-align: center;}#sk-container-id-2 label.sk-toggleable__label-arrow:before {content: \"▸\";float: left;margin-right: 0.25em;color: #696969;}#sk-container-id-2 label.sk-toggleable__label-arrow:hover:before {color: black;}#sk-container-id-2 div.sk-estimator:hover label.sk-toggleable__label-arrow:before {color: black;}#sk-container-id-2 div.sk-toggleable__content {max-height: 0;max-width: 0;overflow: hidden;text-align: left;background-color: #f0f8ff;}#sk-container-id-2 div.sk-toggleable__content pre {margin: 0.2em;color: black;border-radius: 0.25em;background-color: #f0f8ff;}#sk-container-id-2 input.sk-toggleable__control:checked~div.sk-toggleable__content {max-height: 200px;max-width: 100%;overflow: auto;}#sk-container-id-2 input.sk-toggleable__control:checked~label.sk-toggleable__label-arrow:before {content: \"▾\";}#sk-container-id-2 div.sk-estimator input.sk-toggleable__control:checked~label.sk-toggleable__label {background-color: #d4ebff;}#sk-container-id-2 div.sk-label input.sk-toggleable__control:checked~label.sk-toggleable__label {background-color: #d4ebff;}#sk-container-id-2 input.sk-hidden--visually {border: 0;clip: rect(1px 1px 1px 1px);clip: rect(1px, 1px, 1px, 1px);height: 1px;margin: -1px;overflow: hidden;padding: 0;position: absolute;width: 1px;}#sk-container-id-2 div.sk-estimator {font-family: monospace;background-color: #f0f8ff;border: 1px dotted black;border-radius: 0.25em;box-sizing: border-box;margin-bottom: 0.5em;}#sk-container-id-2 div.sk-estimator:hover {background-color: #d4ebff;}#sk-container-id-2 div.sk-parallel-item::after {content: \"\";width: 100%;border-bottom: 1px solid gray;flex-grow: 1;}#sk-container-id-2 div.sk-label:hover label.sk-toggleable__label {background-color: #d4ebff;}#sk-container-id-2 div.sk-serial::before {content: \"\";position: absolute;border-left: 1px solid gray;box-sizing: border-box;top: 0;bottom: 0;left: 50%;z-index: 0;}#sk-container-id-2 div.sk-serial {display: flex;flex-direction: column;align-items: center;background-color: white;padding-right: 0.2em;padding-left: 0.2em;position: relative;}#sk-container-id-2 div.sk-item {position: relative;z-index: 1;}#sk-container-id-2 div.sk-parallel {display: flex;align-items: stretch;justify-content: center;background-color: white;position: relative;}#sk-container-id-2 div.sk-item::before, #sk-container-id-2 div.sk-parallel-item::before {content: \"\";position: absolute;border-left: 1px solid gray;box-sizing: border-box;top: 0;bottom: 0;left: 50%;z-index: -1;}#sk-container-id-2 div.sk-parallel-item {display: flex;flex-direction: column;z-index: 1;position: relative;background-color: white;}#sk-container-id-2 div.sk-parallel-item:first-child::after {align-self: flex-end;width: 50%;}#sk-container-id-2 div.sk-parallel-item:last-child::after {align-self: flex-start;width: 50%;}#sk-container-id-2 div.sk-parallel-item:only-child::after {width: 0;}#sk-container-id-2 div.sk-dashed-wrapped {border: 1px dashed gray;margin: 0 0.4em 0.5em 0.4em;box-sizing: border-box;padding-bottom: 0.4em;background-color: white;}#sk-container-id-2 div.sk-label label {font-family: monospace;font-weight: bold;display: inline-block;line-height: 1.2em;}#sk-container-id-2 div.sk-label-container {text-align: center;}#sk-container-id-2 div.sk-container {/* jupyter's `normalize.less` sets `[hidden] { display: none; }` but bootstrap.min.css set `[hidden] { display: none !important; }` so we also need the `!important` here to be able to override the default hidden behavior on the sphinx rendered scikit-learn.org. See: https://github.com/scikit-learn/scikit-learn/issues/21755 */display: inline-block !important;position: relative;}#sk-container-id-2 div.sk-text-repr-fallback {display: none;}</style><div id=\"sk-container-id-2\" class=\"sk-top-container\"><div class=\"sk-text-repr-fallback\"><pre>[common_div(common_sqrt(common_mul(收盘价, 成交量)), common_sqrt(common_max(最高价, 成交额))),\n common_div(最低价, 收盘价),\n ts_mean_10(common_log(common_min(0.717, 开盘价))),\n common_max(common_sub(common_abs(0.660), ts_max_10(成交量)), common_mul(成交额, 成交量)),\n ts_std_10(ts_std_10(成交额)),\n common_add(common_add(common_mul(成交量, 收盘价), common_add(成交量, 收盘价)), common_add(成交量, 收盘价)),\n common_add(common_abs(common_mul(成交额, 成交量)), common_add(成交量, 收盘价)),\n common_div(common_abs(common_mul(成交额, 成交量)), common_sqrt(common_max(最高价, 成交额))),\n common_sub(最低价, 收盘价),\n common_inv(ts_max_10(common_div(收盘价, 成交额)))]</pre><b>In a Jupyter environment, please rerun this cell to show the HTML representation or trust the notebook. <br />On GitHub, the HTML representation is unable to render, please try loading this page with nbviewer.org.</b></div><div class=\"sk-container\" hidden><div class=\"sk-item\"><div class=\"sk-estimator sk-toggleable\"><input class=\"sk-toggleable__control sk-hidden--visually\" id=\"sk-estimator-id-2\" type=\"checkbox\" checked><label for=\"sk-estimator-id-2\" class=\"sk-toggleable__label sk-toggleable__label-arrow\">SymbolicTransformer</label><div class=\"sk-toggleable__content\"><pre>[common_div(common_sqrt(common_mul(收盘价, 成交量)), common_sqrt(common_max(最高价, 成交额))),\n common_div(最低价, 收盘价),\n ts_mean_10(common_log(common_min(0.717, 开盘价))),\n common_max(common_sub(common_abs(0.660), ts_max_10(成交量)), common_mul(成交额, 成交量)),\n ts_std_10(ts_std_10(成交额)),\n common_add(common_add(common_mul(成交量, 收盘价), common_add(成交量, 收盘价)), common_add(成交量, 收盘价)),\n common_add(common_abs(common_mul(成交额, 成交量)), common_add(成交量, 收盘价)),\n common_div(common_abs(common_mul(成交额, 成交量)), common_sqrt(common_max(最高价, 成交额))),\n common_sub(最低价, 收盘价),\n common_inv(ts_max_10(common_div(收盘价, 成交额)))]</pre></div></div></div></div></div>"
     },
     "execution_count": 11,
     "metadata": {},
     "output_type": "execute_result"
    }
   ],
   "source": [
    "# 我还开发携带一个追踪机制，把所有代中IC达标(0.02)的因子表达式都放出来，同时记录是在第几代得到的\n",
    "gp_sample.fit_3D(X, Y1,X_feature_names,baseIC=0.02)"
   ],
   "metadata": {
    "collapsed": false
   }
  },
  {
   "cell_type": "code",
   "execution_count": 12,
   "outputs": [
    {
     "name": "stdout",
     "output_type": "stream",
     "text": [
      "                                                  表达式   fitness  OOB fitness  \\\n",
      "0                           ts_std_10(ts_std_10(收盘价))  0.022022          0.0   \n",
      "1      ts_mean_10(common_log(common_min(0.717, 开盘价)))  0.030272          0.0   \n",
      "2   common_mul(common_log(成交额), common_sub(-0.095,...  0.024732          0.0   \n",
      "3                   common_sqrt(common_sub(成交量, 收盘价))  0.024528          0.0   \n",
      "4   common_mul(收盘价, common_div(-0.240, common_inv(...  0.021650          0.0   \n",
      "..                                                ...       ...          ...   \n",
      "74            common_add(成交额, common_min(0.717, 开盘价))  0.025288          0.0   \n",
      "75                    ts_std_10(common_mul(开盘价, 最低价))  0.024435          0.0   \n",
      "76              common_add(common_mul(成交量, 收盘价), 成交量)  0.026218          0.0   \n",
      "77  common_min(common_sub(收盘价, 成交额), common_sqrt(最...  0.025288          0.0   \n",
      "78                   common_abs(common_sub(收盘价, 成交额))  0.025288          0.0   \n",
      "\n",
      "       训练集IC  样本外IC     训练集IR  样本外IR  训练集RankIC  样本外RankIC  \n",
      "0   0.022022    0.0  0.063946    0.0   0.000000        0.0  \n",
      "1  -0.030272    0.0  0.092371    0.0   0.000000        0.0  \n",
      "2   0.024732    0.0  0.067171    0.0   0.009149        0.0  \n",
      "3  -0.024528    0.0  0.068483    0.0  -0.004428        0.0  \n",
      "4  -0.021650    0.0  0.062708    0.0   0.061285        0.0  \n",
      "..       ...    ...       ...    ...        ...        ...  \n",
      "74 -0.025288    0.0  0.068617    0.0  -0.049506        0.0  \n",
      "75  0.024435    0.0  0.069081    0.0  -0.074158        0.0  \n",
      "76 -0.026218    0.0  0.070785    0.0  -0.036164        0.0  \n",
      "77  0.025288    0.0  0.068617    0.0   0.049506        0.0  \n",
      "78 -0.025288    0.0  0.068617    0.0  -0.049506        0.0  \n",
      "\n",
      "[79 rows x 9 columns]\n"
     ]
    }
   ],
   "source": [
    "baseIC_total_result = gp_sample.show_program(X,Y1,X_feature_names,sample_weight=sample_weight,baseIC=True)\n",
    "baseIC_total_result.to_csv(\"./presentation_baseIC_total_result.csv\")\n",
    "print(baseIC_total_result)"
   ],
   "metadata": {
    "collapsed": false
   }
  },
  {
   "cell_type": "code",
   "execution_count": 13,
   "outputs": [
    {
     "name": "stdout",
     "output_type": "stream",
     "text": [
      "                                                 表达式   fitness  OOB fitness  \\\n",
      "0  common_div(common_sqrt(common_mul(收盘价, 成交量)), ...  0.071606          0.0   \n",
      "1                               common_div(最低价, 收盘价)  0.058264          0.0   \n",
      "2     ts_mean_10(common_log(common_min(0.717, 开盘价)))  0.030272          0.0   \n",
      "3  common_max(common_sub(common_abs(0.660), ts_ma...  0.027626          0.0   \n",
      "4                          ts_std_10(ts_std_10(成交额))  0.026459          0.0   \n",
      "5  common_add(common_add(common_mul(成交量, 收盘价), co...  0.026243          0.0   \n",
      "6  common_add(common_abs(common_mul(成交额, 成交量)), c...  0.025854          0.0   \n",
      "7  common_div(common_abs(common_mul(成交额, 成交量)), c...  0.025654          0.0   \n",
      "8                               common_sub(最低价, 收盘价)  0.025475          0.0   \n",
      "9        common_inv(ts_max_10(common_div(收盘价, 成交额)))  0.025246          0.0   \n",
      "\n",
      "      训练集IC  样本外IC     训练集IR  样本外IR  训练集RankIC  样本外RankIC  \n",
      "0 -0.071606    0.0  0.208007    0.0   0.121365        0.0  \n",
      "1  0.058264    0.0  0.165544    0.0  -0.143778        0.0  \n",
      "2 -0.030272    0.0  0.092371    0.0   0.000000        0.0  \n",
      "3 -0.027626    0.0  0.076699    0.0  -0.145136        0.0  \n",
      "4 -0.026459    0.0  0.076633    0.0   0.000000        0.0  \n",
      "5 -0.026243    0.0  0.070766    0.0  -0.038158        0.0  \n",
      "6 -0.025854    0.0  0.070298    0.0  -0.023033        0.0  \n",
      "7 -0.025654    0.0  0.069254    0.0  -0.005245        0.0  \n",
      "8  0.025475    0.0  0.073628    0.0  -0.053770        0.0  \n",
      "9 -0.025246    0.0  0.078344    0.0   0.000000        0.0  \n"
     ]
    }
   ],
   "source": [
    "baseIC_best_result = gp_sample.show_program(X,Y1,X_feature_names,baseIC=False)\n",
    "baseIC_best_result.to_csv(\"./presentation_baseIC_best_result.csv\")\n",
    "print(baseIC_best_result)"
   ],
   "metadata": {
    "collapsed": false
   }
  },
  {
   "cell_type": "markdown",
   "source": [
    "### 通过手撸因子，校验一下结果"
   ],
   "metadata": {
    "collapsed": false
   }
  },
  {
   "cell_type": "code",
   "execution_count": 15,
   "outputs": [
    {
     "data": {
      "text/plain": "-0.026459036226093892"
     },
     "execution_count": 15,
     "metadata": {},
     "output_type": "execute_result"
    }
   ],
   "source": [
    "# 挑选一个因子进行复现\n",
    "# ts_std_10(ts_std_10(成交额)) 0.026459036226093906\n",
    "total_df[\"Factor1\"] =total_df.groupby(\"股票代码\").apply(lambda x:x[\"成交额\"].rolling(10).std()).reset_index()[\"成交额\"]\n",
    "total_df[\"factor\"] =total_df.groupby(\"股票代码\").apply(lambda x:x[\"Factor1\"].rolling(10).std()).reset_index()[\"Factor1\"]\n",
    "result = total_df.groupby(\"交易日期\").apply(lambda x : x[\"factor\"].corr(x[\"收益率\"])).mean()\n",
    "result"
   ],
   "metadata": {
    "collapsed": false
   }
  },
  {
   "cell_type": "code",
   "execution_count": 14,
   "outputs": [
    {
     "data": {
      "text/plain": "0.020094943981347427"
     },
     "execution_count": 14,
     "metadata": {},
     "output_type": "execute_result"
    }
   ],
   "source": [
    "# common_mul(ts_mean_10(最低价), common_log(最高价)) 0.02009494398134743\n",
    "total_df[\"tsmean10\"] =total_df.groupby(\"股票代码\").apply(lambda x :x[\"最低价\"].rolling(10).mean()).reset_index()[\"最低价\"]\n",
    "total_df[\"factor\"] =np.multiply(np.log(total_df[\"最高价\"]),total_df[\"tsmean10\"])\n",
    "result = total_df.groupby(\"交易日期\").apply(lambda x : x[\"factor\"].corr(x[\"收益率\"])).mean()\n",
    "result"
   ],
   "metadata": {
    "collapsed": false
   }
  }
 ],
 "metadata": {
  "kernelspec": {
   "display_name": "Python 3",
   "language": "python",
   "name": "python3"
  },
  "language_info": {
   "codemirror_mode": {
    "name": "ipython",
    "version": 2
   },
   "file_extension": ".py",
   "mimetype": "text/x-python",
   "name": "python",
   "nbconvert_exporter": "python",
   "pygments_lexer": "ipython2",
   "version": "2.7.6"
  }
 },
 "nbformat": 4,
 "nbformat_minor": 0
}
