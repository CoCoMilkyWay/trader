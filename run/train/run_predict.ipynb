{
 "cells": [
  {
   "cell_type": "code",
   "execution_count": 7,
   "metadata": {},
   "outputs": [
    {
     "name": "stdout",
     "output_type": "stream",
     "text": [
      "DatasetH(handler=<qlib.contrib.data.handler.Alpha158 object at 0x000002497D09E890>, segments={'train': [datetime.date(2018, 1, 1), datetime.date(2018, 12, 31)], 'valid': [datetime.date(2019, 1, 1), datetime.date(2019, 12, 31)], 'test': [datetime.date(2020, 1, 1), datetime.date(2020, 8, 1)]})\n",
      "<class 'qlib.data.dataset.DatasetH'>\n",
      "Class: DatasetH\n",
      "Attributes and Methods:\n",
      "FLAG_KEY (attribute) -> _qlib_serial_flag\n",
      "_get_attr_list (method) -> <bound method Serializable._get_attr_list of DatasetH(handler=<qlib.contrib.data.handler.Alpha158 object at 0x000002497D09E890>, segments={'train': [datetime.date(2018, 1, 1), datetime.date(2018, 12, 31)], 'valid': [datetime.date(2019, 1, 1), datetime.date(2019, 12, 31)], 'test': [datetime.date(2020, 1, 1), datetime.date(2020, 8, 1)]})>\n",
      "_get_extrema (method) -> <function DatasetH._get_extrema at 0x000002497C4AF560>\n",
      "_is_kept (method) -> <bound method Serializable._is_kept of DatasetH(handler=<qlib.contrib.data.handler.Alpha158 object at 0x000002497D09E890>, segments={'train': [datetime.date(2018, 1, 1), datetime.date(2018, 12, 31)], 'valid': [datetime.date(2019, 1, 1), datetime.date(2019, 12, 31)], 'test': [datetime.date(2020, 1, 1), datetime.date(2020, 8, 1)]})>\n",
      "_prepare_seg (method) -> <bound method DatasetH._prepare_seg of DatasetH(handler=<qlib.contrib.data.handler.Alpha158 object at 0x000002497D09E890>, segments={'train': [datetime.date(2018, 1, 1), datetime.date(2018, 12, 31)], 'valid': [datetime.date(2019, 1, 1), datetime.date(2019, 12, 31)], 'test': [datetime.date(2020, 1, 1), datetime.date(2020, 8, 1)]})>\n",
      "config (method) -> <bound method DatasetH.config of DatasetH(handler=<qlib.contrib.data.handler.Alpha158 object at 0x000002497D09E890>, segments={'train': [datetime.date(2018, 1, 1), datetime.date(2018, 12, 31)], 'valid': [datetime.date(2019, 1, 1), datetime.date(2019, 12, 31)], 'test': [datetime.date(2020, 1, 1), datetime.date(2020, 8, 1)]})>\n",
      "config_attr (attribute) -> ['_include', '_exclude']\n",
      "default_dump_all (attribute) -> False\n",
      "dump_all (attribute) -> False\n",
      "exclude_attr (attribute) -> []\n",
      "fetch_kwargs (attribute) -> {}\n",
      "general_dump (method) -> <function Serializable.general_dump at 0x000002497C482CA0>\n",
      "get_backend (method) -> <bound method Serializable.get_backend of <class 'qlib.data.dataset.DatasetH'>>\n",
      "get_max_time (method) -> <function DatasetH.get_max_time at 0x000002497C4AF4C0>\n",
      "get_min_time (method) -> <function DatasetH.get_min_time at 0x000002497C4AF420>\n",
      "handler (attribute) -> <qlib.contrib.data.handler.Alpha158 object at 0x000002497D09E890>\n",
      "include_attr (attribute) -> []\n",
      "load (method) -> <bound method Serializable.load of <class 'qlib.data.dataset.DatasetH'>>\n",
      "pickle_backend (attribute) -> pickle\n",
      "prepare (method) -> <bound method DatasetH.prepare of DatasetH(handler=<qlib.contrib.data.handler.Alpha158 object at 0x000002497D09E890>, segments={'train': [datetime.date(2018, 1, 1), datetime.date(2018, 12, 31)], 'valid': [datetime.date(2019, 1, 1), datetime.date(2019, 12, 31)], 'test': [datetime.date(2020, 1, 1), datetime.date(2020, 8, 1)]})>\n",
      "segments (attribute) -> {'train': [datetime.date(2018, 1, 1), datetime.date(2018, 12, 31)], 'valid': [datetime.date(2019, 1, 1), datetime.date(2019, 12, 31)], 'test': [datetime.date(2020, 1, 1), datetime.date(2020, 8, 1)]}\n",
      "setup_data (method) -> <bound method DatasetH.setup_data of DatasetH(handler=<qlib.contrib.data.handler.Alpha158 object at 0x000002497D09E890>, segments={'train': [datetime.date(2018, 1, 1), datetime.date(2018, 12, 31)], 'valid': [datetime.date(2019, 1, 1), datetime.date(2019, 12, 31)], 'test': [datetime.date(2020, 1, 1), datetime.date(2020, 8, 1)]})>\n",
      "to_pickle (method) -> <bound method Serializable.to_pickle of DatasetH(handler=<qlib.contrib.data.handler.Alpha158 object at 0x000002497D09E890>, segments={'train': [datetime.date(2018, 1, 1), datetime.date(2018, 12, 31)], 'valid': [datetime.date(2019, 1, 1), datetime.date(2019, 12, 31)], 'test': [datetime.date(2020, 1, 1), datetime.date(2020, 8, 1)]})>\n",
      "<qlib.contrib.model.xgboost.XGBModel object at 0x000002498A2CF410>\n",
      "<class 'qlib.contrib.model.xgboost.XGBModel'>\n"
     ]
    },
    {
     "ename": "AttributeError",
     "evalue": "'Alpha158' object has no attribute '_infer'",
     "output_type": "error",
     "traceback": [
      "\u001b[1;31m---------------------------------------------------------------------------\u001b[0m",
      "\u001b[1;31mAttributeError\u001b[0m                            Traceback (most recent call last)",
      "Cell \u001b[1;32mIn[7], line 30\u001b[0m\n\u001b[0;32m     27\u001b[0m \u001b[38;5;28mprint\u001b[39m(model)\n\u001b[0;32m     28\u001b[0m \u001b[38;5;28mprint\u001b[39m(\u001b[38;5;28mtype\u001b[39m(model))\n\u001b[1;32m---> 30\u001b[0m pred \u001b[38;5;241m=\u001b[39m \u001b[43mmodel\u001b[49m\u001b[38;5;241;43m.\u001b[39;49m\u001b[43mpredict\u001b[49m\u001b[43m(\u001b[49m\u001b[43mdataset\u001b[49m\u001b[43m)\u001b[49m\n\u001b[0;32m     32\u001b[0m \u001b[38;5;28;01mwith\u001b[39;00m \u001b[38;5;28mopen\u001b[39m(\u001b[38;5;124mf\u001b[39m\u001b[38;5;124m'\u001b[39m\u001b[38;5;132;01m{\u001b[39;00martifacts_path\u001b[38;5;132;01m}\u001b[39;00m\u001b[38;5;124m/pred.pkl\u001b[39m\u001b[38;5;124m'\u001b[39m, \u001b[38;5;124m'\u001b[39m\u001b[38;5;124mrb\u001b[39m\u001b[38;5;124m'\u001b[39m) \u001b[38;5;28;01mas\u001b[39;00m f:\n\u001b[0;32m     33\u001b[0m     pred \u001b[38;5;241m=\u001b[39m pickle\u001b[38;5;241m.\u001b[39mload(f)\n",
      "File \u001b[1;32m~\\AppData\\Local\\Packages\\PythonSoftwareFoundation.Python.3.11_qbz5n2kfra8p0\\LocalCache\\local-packages\\Python311\\site-packages\\qlib\\contrib\\model\\xgboost.py:74\u001b[0m, in \u001b[0;36mXGBModel.predict\u001b[1;34m(self, dataset, segment)\u001b[0m\n\u001b[0;32m     72\u001b[0m \u001b[38;5;28;01mif\u001b[39;00m \u001b[38;5;28mself\u001b[39m\u001b[38;5;241m.\u001b[39mmodel \u001b[38;5;129;01mis\u001b[39;00m \u001b[38;5;28;01mNone\u001b[39;00m:\n\u001b[0;32m     73\u001b[0m     \u001b[38;5;28;01mraise\u001b[39;00m \u001b[38;5;167;01mValueError\u001b[39;00m(\u001b[38;5;124m\"\u001b[39m\u001b[38;5;124mmodel is not fitted yet!\u001b[39m\u001b[38;5;124m\"\u001b[39m)\n\u001b[1;32m---> 74\u001b[0m x_test \u001b[38;5;241m=\u001b[39m \u001b[43mdataset\u001b[49m\u001b[38;5;241;43m.\u001b[39;49m\u001b[43mprepare\u001b[49m\u001b[43m(\u001b[49m\u001b[43msegment\u001b[49m\u001b[43m,\u001b[49m\u001b[43m \u001b[49m\u001b[43mcol_set\u001b[49m\u001b[38;5;241;43m=\u001b[39;49m\u001b[38;5;124;43m\"\u001b[39;49m\u001b[38;5;124;43mfeature\u001b[39;49m\u001b[38;5;124;43m\"\u001b[39;49m\u001b[43m,\u001b[49m\u001b[43m \u001b[49m\u001b[43mdata_key\u001b[49m\u001b[38;5;241;43m=\u001b[39;49m\u001b[43mDataHandlerLP\u001b[49m\u001b[38;5;241;43m.\u001b[39;49m\u001b[43mDK_I\u001b[49m\u001b[43m)\u001b[49m\n\u001b[0;32m     75\u001b[0m \u001b[38;5;28;01mreturn\u001b[39;00m pd\u001b[38;5;241m.\u001b[39mSeries(\u001b[38;5;28mself\u001b[39m\u001b[38;5;241m.\u001b[39mmodel\u001b[38;5;241m.\u001b[39mpredict(xgb\u001b[38;5;241m.\u001b[39mDMatrix(x_test)), index\u001b[38;5;241m=\u001b[39mx_test\u001b[38;5;241m.\u001b[39mindex)\n",
      "File \u001b[1;32m~\\AppData\\Local\\Packages\\PythonSoftwareFoundation.Python.3.11_qbz5n2kfra8p0\\LocalCache\\local-packages\\Python311\\site-packages\\qlib\\data\\dataset\\__init__.py:244\u001b[0m, in \u001b[0;36mDatasetH.prepare\u001b[1;34m(self, segments, col_set, data_key, **kwargs)\u001b[0m\n\u001b[0;32m    237\u001b[0m \u001b[38;5;66;03m# Conflictions may happen here\u001b[39;00m\n\u001b[0;32m    238\u001b[0m \u001b[38;5;66;03m# - The fetched data and the segment key may both be string\u001b[39;00m\n\u001b[0;32m    239\u001b[0m \u001b[38;5;66;03m# To resolve the confliction\u001b[39;00m\n\u001b[0;32m    240\u001b[0m \u001b[38;5;66;03m# - The segment name will have higher priorities\u001b[39;00m\n\u001b[0;32m    241\u001b[0m \n\u001b[0;32m    242\u001b[0m \u001b[38;5;66;03m# 1) Use it as segment name first\u001b[39;00m\n\u001b[0;32m    243\u001b[0m \u001b[38;5;28;01mif\u001b[39;00m \u001b[38;5;28misinstance\u001b[39m(segments, \u001b[38;5;28mstr\u001b[39m) \u001b[38;5;129;01mand\u001b[39;00m segments \u001b[38;5;129;01min\u001b[39;00m \u001b[38;5;28mself\u001b[39m\u001b[38;5;241m.\u001b[39msegments:\n\u001b[1;32m--> 244\u001b[0m     \u001b[38;5;28;01mreturn\u001b[39;00m \u001b[38;5;28;43mself\u001b[39;49m\u001b[38;5;241;43m.\u001b[39;49m\u001b[43m_prepare_seg\u001b[49m\u001b[43m(\u001b[49m\u001b[38;5;28;43mself\u001b[39;49m\u001b[38;5;241;43m.\u001b[39;49m\u001b[43msegments\u001b[49m\u001b[43m[\u001b[49m\u001b[43msegments\u001b[49m\u001b[43m]\u001b[49m\u001b[43m,\u001b[49m\u001b[43m \u001b[49m\u001b[38;5;241;43m*\u001b[39;49m\u001b[38;5;241;43m*\u001b[39;49m\u001b[43mseg_kwargs\u001b[49m\u001b[43m)\u001b[49m\n\u001b[0;32m    246\u001b[0m \u001b[38;5;28;01mif\u001b[39;00m \u001b[38;5;28misinstance\u001b[39m(segments, (\u001b[38;5;28mlist\u001b[39m, \u001b[38;5;28mtuple\u001b[39m)) \u001b[38;5;129;01mand\u001b[39;00m \u001b[38;5;28mall\u001b[39m(seg \u001b[38;5;129;01min\u001b[39;00m \u001b[38;5;28mself\u001b[39m\u001b[38;5;241m.\u001b[39msegments \u001b[38;5;28;01mfor\u001b[39;00m seg \u001b[38;5;129;01min\u001b[39;00m segments):\n\u001b[0;32m    247\u001b[0m     \u001b[38;5;28;01mreturn\u001b[39;00m [\u001b[38;5;28mself\u001b[39m\u001b[38;5;241m.\u001b[39m_prepare_seg(\u001b[38;5;28mself\u001b[39m\u001b[38;5;241m.\u001b[39msegments[seg], \u001b[38;5;241m*\u001b[39m\u001b[38;5;241m*\u001b[39mseg_kwargs) \u001b[38;5;28;01mfor\u001b[39;00m seg \u001b[38;5;129;01min\u001b[39;00m segments]\n",
      "File \u001b[1;32m~\\AppData\\Local\\Packages\\PythonSoftwareFoundation.Python.3.11_qbz5n2kfra8p0\\LocalCache\\local-packages\\Python311\\site-packages\\qlib\\data\\dataset\\__init__.py:181\u001b[0m, in \u001b[0;36mDatasetH._prepare_seg\u001b[1;34m(self, slc, **kwargs)\u001b[0m\n\u001b[0;32m    172\u001b[0m \u001b[38;5;250m\u001b[39m\u001b[38;5;124;03m\"\"\"\u001b[39;00m\n\u001b[0;32m    173\u001b[0m \u001b[38;5;124;03mGive a query, retrieve the according data\u001b[39;00m\n\u001b[0;32m    174\u001b[0m \n\u001b[1;32m   (...)\u001b[0m\n\u001b[0;32m    178\u001b[0m \u001b[38;5;124;03m        NOTE: it may not be an instance of slice. It may be a segment of `segments` from `def prepare`\u001b[39;00m\n\u001b[0;32m    179\u001b[0m \u001b[38;5;124;03m\"\"\"\u001b[39;00m\n\u001b[0;32m    180\u001b[0m \u001b[38;5;28;01mif\u001b[39;00m \u001b[38;5;28mhasattr\u001b[39m(\u001b[38;5;28mself\u001b[39m, \u001b[38;5;124m\"\u001b[39m\u001b[38;5;124mfetch_kwargs\u001b[39m\u001b[38;5;124m\"\u001b[39m):\n\u001b[1;32m--> 181\u001b[0m     \u001b[38;5;28;01mreturn\u001b[39;00m \u001b[38;5;28;43mself\u001b[39;49m\u001b[38;5;241;43m.\u001b[39;49m\u001b[43mhandler\u001b[49m\u001b[38;5;241;43m.\u001b[39;49m\u001b[43mfetch\u001b[49m\u001b[43m(\u001b[49m\u001b[43mslc\u001b[49m\u001b[43m,\u001b[49m\u001b[43m \u001b[49m\u001b[38;5;241;43m*\u001b[39;49m\u001b[38;5;241;43m*\u001b[39;49m\u001b[43mkwargs\u001b[49m\u001b[43m,\u001b[49m\u001b[43m \u001b[49m\u001b[38;5;241;43m*\u001b[39;49m\u001b[38;5;241;43m*\u001b[39;49m\u001b[38;5;28;43mself\u001b[39;49m\u001b[38;5;241;43m.\u001b[39;49m\u001b[43mfetch_kwargs\u001b[49m\u001b[43m)\u001b[49m\n\u001b[0;32m    182\u001b[0m \u001b[38;5;28;01melse\u001b[39;00m:\n\u001b[0;32m    183\u001b[0m     \u001b[38;5;28;01mreturn\u001b[39;00m \u001b[38;5;28mself\u001b[39m\u001b[38;5;241m.\u001b[39mhandler\u001b[38;5;241m.\u001b[39mfetch(slc, \u001b[38;5;241m*\u001b[39m\u001b[38;5;241m*\u001b[39mkwargs)\n",
      "File \u001b[1;32m~\\AppData\\Local\\Packages\\PythonSoftwareFoundation.Python.3.11_qbz5n2kfra8p0\\LocalCache\\local-packages\\Python311\\site-packages\\qlib\\data\\dataset\\handler.py:664\u001b[0m, in \u001b[0;36mDataHandlerLP.fetch\u001b[1;34m(self, selector, level, col_set, data_key, squeeze, proc_func)\u001b[0m\n\u001b[0;32m    633\u001b[0m \u001b[38;5;28;01mdef\u001b[39;00m \u001b[38;5;21mfetch\u001b[39m(\n\u001b[0;32m    634\u001b[0m     \u001b[38;5;28mself\u001b[39m,\n\u001b[0;32m    635\u001b[0m     selector: Union[pd\u001b[38;5;241m.\u001b[39mTimestamp, \u001b[38;5;28mslice\u001b[39m, \u001b[38;5;28mstr\u001b[39m] \u001b[38;5;241m=\u001b[39m \u001b[38;5;28mslice\u001b[39m(\u001b[38;5;28;01mNone\u001b[39;00m, \u001b[38;5;28;01mNone\u001b[39;00m),\n\u001b[1;32m   (...)\u001b[0m\n\u001b[0;32m    640\u001b[0m     proc_func: Callable \u001b[38;5;241m=\u001b[39m \u001b[38;5;28;01mNone\u001b[39;00m,\n\u001b[0;32m    641\u001b[0m ) \u001b[38;5;241m-\u001b[39m\u001b[38;5;241m>\u001b[39m pd\u001b[38;5;241m.\u001b[39mDataFrame:\n\u001b[0;32m    642\u001b[0m \u001b[38;5;250m    \u001b[39m\u001b[38;5;124;03m\"\"\"\u001b[39;00m\n\u001b[0;32m    643\u001b[0m \u001b[38;5;124;03m    fetch data from underlying data source\u001b[39;00m\n\u001b[0;32m    644\u001b[0m \n\u001b[1;32m   (...)\u001b[0m\n\u001b[0;32m    660\u001b[0m \u001b[38;5;124;03m    pd.DataFrame:\u001b[39;00m\n\u001b[0;32m    661\u001b[0m \u001b[38;5;124;03m    \"\"\"\u001b[39;00m\n\u001b[0;32m    663\u001b[0m     \u001b[38;5;28;01mreturn\u001b[39;00m \u001b[38;5;28mself\u001b[39m\u001b[38;5;241m.\u001b[39m_fetch_data(\n\u001b[1;32m--> 664\u001b[0m         data_storage\u001b[38;5;241m=\u001b[39m\u001b[38;5;28;43mself\u001b[39;49m\u001b[38;5;241;43m.\u001b[39;49m\u001b[43m_get_df_by_key\u001b[49m\u001b[43m(\u001b[49m\u001b[43mdata_key\u001b[49m\u001b[43m)\u001b[49m,\n\u001b[0;32m    665\u001b[0m         selector\u001b[38;5;241m=\u001b[39mselector,\n\u001b[0;32m    666\u001b[0m         level\u001b[38;5;241m=\u001b[39mlevel,\n\u001b[0;32m    667\u001b[0m         col_set\u001b[38;5;241m=\u001b[39mcol_set,\n\u001b[0;32m    668\u001b[0m         squeeze\u001b[38;5;241m=\u001b[39msqueeze,\n\u001b[0;32m    669\u001b[0m         proc_func\u001b[38;5;241m=\u001b[39mproc_func,\n\u001b[0;32m    670\u001b[0m     )\n",
      "File \u001b[1;32m~\\AppData\\Local\\Packages\\PythonSoftwareFoundation.Python.3.11_qbz5n2kfra8p0\\LocalCache\\local-packages\\Python311\\site-packages\\qlib\\data\\dataset\\handler.py:630\u001b[0m, in \u001b[0;36mDataHandlerLP._get_df_by_key\u001b[1;34m(self, data_key)\u001b[0m\n\u001b[0;32m    626\u001b[0m \u001b[38;5;28;01mif\u001b[39;00m data_key \u001b[38;5;241m==\u001b[39m \u001b[38;5;28mself\u001b[39m\u001b[38;5;241m.\u001b[39mDK_R \u001b[38;5;129;01mand\u001b[39;00m \u001b[38;5;28mself\u001b[39m\u001b[38;5;241m.\u001b[39mdrop_raw:\n\u001b[0;32m    627\u001b[0m     \u001b[38;5;28;01mraise\u001b[39;00m \u001b[38;5;167;01mAttributeError\u001b[39;00m(\n\u001b[0;32m    628\u001b[0m         \u001b[38;5;124m\"\u001b[39m\u001b[38;5;124mDataHandlerLP has not attribute _data, please set drop_raw = False if you want to use raw data\u001b[39m\u001b[38;5;124m\"\u001b[39m\n\u001b[0;32m    629\u001b[0m     )\n\u001b[1;32m--> 630\u001b[0m df \u001b[38;5;241m=\u001b[39m \u001b[38;5;28;43mgetattr\u001b[39;49m\u001b[43m(\u001b[49m\u001b[38;5;28;43mself\u001b[39;49m\u001b[43m,\u001b[49m\u001b[43m \u001b[49m\u001b[38;5;28;43mself\u001b[39;49m\u001b[38;5;241;43m.\u001b[39;49m\u001b[43mATTR_MAP\u001b[49m\u001b[43m[\u001b[49m\u001b[43mdata_key\u001b[49m\u001b[43m]\u001b[49m\u001b[43m)\u001b[49m\n\u001b[0;32m    631\u001b[0m \u001b[38;5;28;01mreturn\u001b[39;00m df\n",
      "\u001b[1;31mAttributeError\u001b[0m: 'Alpha158' object has no attribute '_infer'"
     ]
    }
   ],
   "source": [
    "def print_class_attributes_and_methods(obj):\n",
    "    print(f\"Class: {obj.__class__.__name__}\")\n",
    "    print(\"Attributes and Methods:\")\n",
    "    for attribute in dir(obj):\n",
    "        # Filter out built-in attributes and methods (those starting with '__')\n",
    "        if not attribute.startswith(\"__\"):\n",
    "            try:\n",
    "                # Attempt to get the value of the attribute/method\n",
    "                attr_value = getattr(obj, attribute)\n",
    "                if callable(attr_value):\n",
    "                    print(f\"{attribute} (method) -> {attr_value}\")\n",
    "                else:\n",
    "                    print(f\"{attribute} (attribute) -> {attr_value}\")\n",
    "            except Exception as e:\n",
    "                print(f\"Could not access {attribute}: {e}\")\n",
    "                \n",
    "import pickle\n",
    "artifacts_path = \"mlruns/601923807787861404/63b3e3b0a1f141cab2a04f5fb7e9d358/artifacts\"\n",
    "with open('mlruns_all/dataset.pkl', 'rb') as f:\n",
    "    dataset = pickle.load(f)\n",
    "print(dataset)\n",
    "print(type(dataset))\n",
    "print_class_attributes_and_methods(dataset)\n",
    "\n",
    "with open(f'{artifacts_path}/trained_model', 'rb') as f:\n",
    "    model = pickle.load(f)\n",
    "print(model)\n",
    "print(type(model))\n",
    "\n",
    "pred = model.predict(dataset)\n",
    "\n",
    "with open(f'{artifacts_path}/pred.pkl', 'rb') as f:\n",
    "    pred = pickle.load(f)\n",
    "datetime = pred.index.get_level_values(0).tolist()\n",
    "instrument = pred.index.get_level_values(1).tolist()\n",
    "pred = pred.xs('SH000300', level='instrument')\n",
    "# print(datetime)\n",
    "# print(instrument)\n",
    "print(min(pred[\"score\"]), max(pred[\"score\"]), len(pred['score']))\n",
    "print(pred)\n",
    "\n",
    "import matplotlib.pyplot as plt\n",
    "pred['score'].plot.hist(bins=100, edgecolor='black')\n",
    "plt.xlabel('Values')\n",
    "plt.ylabel('percentile')\n",
    "plt.title('Score')\n",
    "plt.show()"
   ]
  }
 ],
 "metadata": {
  "kernelspec": {
   "display_name": "Python 3",
   "language": "python",
   "name": "python3"
  },
  "language_info": {
   "codemirror_mode": {
    "name": "ipython",
    "version": 3
   },
   "file_extension": ".py",
   "mimetype": "text/x-python",
   "name": "python",
   "nbconvert_exporter": "python",
   "pygments_lexer": "ipython3",
   "version": "3.11.9"
  }
 },
 "nbformat": 4,
 "nbformat_minor": 2
}
