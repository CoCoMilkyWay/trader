{
 "cells": [
  {
   "cell_type": "code",
   "execution_count": 1,
   "metadata": {},
   "outputs": [
    {
     "name": "stdout",
     "output_type": "stream",
     "text": [
      "['KMID', 'KLEN', 'KMID2', 'KUP', 'KUP2', 'KLOW', 'KLOW2', 'KSFT', 'KSFT2', 'OPEN0', 'HIGH0', 'LOW0', 'VWAP0', 'ROC5', 'ROC10', 'ROC20', 'ROC30', 'ROC60', 'MA5', 'MA10', 'MA20', 'MA30', 'MA60', 'STD5', 'STD10', 'STD20', 'STD30', 'STD60', 'BETA5', 'BETA10', 'BETA20', 'BETA30', 'BETA60', 'RSQR5', 'RSQR10', 'RSQR20', 'RSQR30', 'RSQR60', 'RESI5', 'RESI10', 'RESI20', 'RESI30', 'RESI60', 'MAX5', 'MAX10', 'MAX20', 'MAX30', 'MAX60', 'MIN5', 'MIN10', 'MIN20', 'MIN30', 'MIN60', 'QTLU5', 'QTLU10', 'QTLU20', 'QTLU30', 'QTLU60', 'QTLD5', 'QTLD10', 'QTLD20', 'QTLD30', 'QTLD60', 'RANK5', 'RANK10', 'RANK20', 'RANK30', 'RANK60', 'RSV5', 'RSV10', 'RSV20', 'RSV30', 'RSV60', 'IMAX5', 'IMAX10', 'IMAX20', 'IMAX30', 'IMAX60', 'IMIN5', 'IMIN10', 'IMIN20', 'IMIN30', 'IMIN60', 'IMXD5', 'IMXD10', 'IMXD20', 'IMXD30', 'IMXD60', 'CORR5', 'CORR10', 'CORR20', 'CORR30', 'CORR60', 'CORD5', 'CORD10', 'CORD20', 'CORD30', 'CORD60', 'CNTP5', 'CNTP10', 'CNTP20', 'CNTP30', 'CNTP60', 'CNTN5', 'CNTN10', 'CNTN20', 'CNTN30', 'CNTN60', 'CNTD5', 'CNTD10', 'CNTD20', 'CNTD30', 'CNTD60', 'SUMP5', 'SUMP10', 'SUMP20', 'SUMP30', 'SUMP60', 'SUMN5', 'SUMN10', 'SUMN20', 'SUMN30', 'SUMN60', 'SUMD5', 'SUMD10', 'SUMD20', 'SUMD30', 'SUMD60', 'VMA5', 'VMA10', 'VMA20', 'VMA30', 'VMA60', 'VSTD5', 'VSTD10', 'VSTD20', 'VSTD30', 'VSTD60', 'WVMA5', 'WVMA10', 'WVMA20', 'WVMA30', 'WVMA60', 'VSUMP5', 'VSUMP10', 'VSUMP20', 'VSUMP30', 'VSUMP60', 'VSUMN5', 'VSUMN10', 'VSUMN20', 'VSUMN30', 'VSUMN60', 'VSUMD5', 'VSUMD10', 'VSUMD20', 'VSUMD30', 'VSUMD60']\n",
      "predicting ===========================================================\n",
      "datetime    instrument\n",
      "2020-01-02  SH600000      0.023867\n",
      "            SH600004      0.000646\n",
      "            SH600009      0.012422\n",
      "            SH600010     -0.006539\n",
      "            SH600011     -0.008642\n",
      "                            ...   \n",
      "2020-07-31  SZ300413     -0.220940\n",
      "            SZ300433     -0.366392\n",
      "            SZ300498     -0.024615\n",
      "            SZ300601     -0.018913\n",
      "            SZ300628     -0.047894\n",
      "Length: 42000, dtype: float32\n"
     ]
    }
   ],
   "source": [
    "import os, sys\n",
    "import pickle\n",
    "import numpy as np\n",
    "import pandas as pd\n",
    "import xgboost as xgb\n",
    "sys.path.append(os.path.abspath(os.path.join(os.getcwd(), os.pardir)))\n",
    "from db.util import print_class_attributes_and_methods\n",
    "\n",
    "artifacts_path = \"mlruns/108652301259577176/b7e7751a61764804bd39188df91d13b1/artifacts\"\n",
    "with open(f'{artifacts_path}/dataset_class_with_data.pkl', 'rb') as f:\n",
    "    dataset = pickle.load(f)\n",
    "with open(f'{artifacts_path}/model.pkl', 'rb') as f:\n",
    "    model = pickle.load(f)\n",
    "booster = model.model\n",
    "# hd = dataset.handler\n",
    "# print(\"features/labels: \", hd.fetch(col_set=\"__all\", data_key=\"infer\")) # raw/learn/infer\n",
    "# print(model.get_feature_importance())\n",
    "# print_class_attributes_and_methods(booster)\n",
    "\n",
    "# pred = model.predict(dataset)\n",
    "x_test = dataset.prepare(\"test\", col_set=\"feature\", data_key=\"infer\")\n",
    "DMatrix = xgb.DMatrix(x_test)\n",
    "print(DMatrix.feature_names)\n",
    "\n",
    "print(\"predicting ===========================================================\")\n",
    "pred = pd.Series(booster.predict(DMatrix), index=x_test.index)\n",
    "print(pred)\n",
    "\n",
    "# with open(f'{artifacts_path}/pred.pkl', 'rb') as f:\n",
    "#     pred = pickle.load(f)\n",
    "# datetime = pred.index.get_level_values(0).tolist()\n",
    "# instrument = pred.index.get_level_values(1).tolist()\n",
    "# pred = pred.xs('SZ000001', level='instrument')\n",
    "# \n",
    "# print(min(pred[\"score\"]), max(pred[\"score\"]), len(pred['score']))\n",
    "# print(pred)\n",
    "# import matplotlib.pyplot as plt\n",
    "# pred['score'].plot.hist(bins=100, edgecolor='black')\n",
    "# plt.xlabel('Values')\n",
    "# plt.ylabel('percentile')\n",
    "# plt.title('Score')\n",
    "# plt.show()"
   ]
  }
 ],
 "metadata": {
  "kernelspec": {
   "display_name": "Python 3",
   "language": "python",
   "name": "python3"
  },
  "language_info": {
   "codemirror_mode": {
    "name": "ipython",
    "version": 3
   },
   "file_extension": ".py",
   "mimetype": "text/x-python",
   "name": "python",
   "nbconvert_exporter": "python",
   "pygments_lexer": "ipython3",
   "version": "3.11.9"
  }
 },
 "nbformat": 4,
 "nbformat_minor": 2
}
