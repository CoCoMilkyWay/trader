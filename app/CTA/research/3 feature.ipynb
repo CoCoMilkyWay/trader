{
 "cells": [
  {
   "cell_type": "code",
   "execution_count": 1,
   "id": "4c21c044",
   "metadata": {},
   "outputs": [],
   "source": [
    "# we first use Tsfresh/Tsfel to generate some features to get a feel of what we are dealing with:\n",
    "#   1. Tsfresh takes n*(id, time, features) and len(id) labels as input:\n",
    "#   2. tsfresh doesn't test/preprocess anything about input timeseries, so you better make them stationary by yourselves\n",
    "#   3. id = independent timeseries, long or short\n",
    "#   4. each id has 1 label, which is against the notion that timeseries need to have timeseries label as well\n",
    "#   5. however, at each time stamp, we have short memory features and long memory features, for short memory features, it is actually equivalent to having a sliding window of short timeseries and output a series of scalar labels, which is exactly how tsfresh/tsfel works\n",
    "#   6. indeed, it might be the best practice to use these tools to generate short memory features and handcraft long memory/more hidden features\n",
    "#   7. these tools can not catch any cross-sectional features between ids. you can generate features for 1 id at a time, works exactly the same, it is just more computationally efficient for parallelism\n",
    "#   8. do features on long timeseries works equally well on its splitted many rolling short timeseries on average? not necessary\n",
    "#   9. thus how do you evaluate whether features generated like this work consistently over time? either averaging statistical performance or try to train a model(then compare model weights)\n",
    "#   10.try short->long window for feature importance(e.g. FFT doesn't work well on short window length)\n",
    "#   11.to evaluate the effect of a feature, dont need to have too many, have enough samples that can make sure feature is stationary and preferably normal distributed"
   ]
  },
  {
   "cell_type": "markdown",
   "id": "f29ef94c",
   "metadata": {},
   "source": [
    "| **Method**                                       | **Approach**                                | **Pattern Type Learned**                 | **Interpretable?**            | **Best Use Case**                                      | **Tools / Libraries**                |\n",
    "| ------------------------------------------------ | ------------------------------------------- | ---------------------------------------- | ----------------------------- | ------------------------------------------------------ | ------------------------------------ |\n",
    "| **Shapelet Transform**                           | Distance-based, supervised                  | Local subsequence \"shapes\"               | ✅ High                        | Finding interpretable, discriminative patterns         | `tslearn`, `sktime`, `pyts`          |\n",
    "| **1D Convolutional Neural Networks (CNNs)**      | Deep learning                               | Localized filters (motifs)               | ⚠️ Limited                    | Predicting future outcomes from raw price shapes       | `Keras`, `PyTorch`                   |\n",
    "| **Dynamic Time Warping + Supervised Clustering** | Similarity + outcome aggregation            | Whole series similarity (flexible time)  | ✅ Medium                      | Pattern grouping + average label scoring               | `tslearn`, `dtaidistance`, `HDBSCAN` |\n",
    "| **Siamese / Triplet Networks**                   | Metric learning                             | Latent similarity between time windows   | ⚠️ Medium                     | Learning similarity among high-performing windows      | `PyTorch`, `TensorFlow`              |\n",
    "| **Time Series Forest (TSF)**                     | Tree ensemble over random intervals         | Random intervals + summaries             | ⚠️ Partial                    | Strong classification baseline for sequences           | `sktime`, `tslearn`                  |\n",
    "| **ROCKET / MiniROCKET / MultiROCKET**            | Random convolutional kernels                | Statistical response to many filters     | ❌ No                          | Very fast, accurate classification/regression          | `sktime`, `rocket-boost`             |\n",
    "| **Bag-of-SFA Symbols (BOSS)**                    | Symbolic Fourier Approx.                    | Frequency of symbolic subsequences       | ✅ High                        | When symbolic patterns matter (e.g., zigzags)          | `sktime`, `pyts`                     |\n",
    "| **HIVE-COTE 2.0**                                | Ensemble of diverse time series classifiers | Multiple feature types                   | ✅ Partial (individual models) | State-of-the-art accuracy on many tasks                | `sktime`                             |\n",
    "| **RNNs / LSTMs / Transformers**                  | Deep sequential models                      | Temporal dynamics, memory, long patterns | ❌ No                          | Capturing long-term dependencies                       | `PyTorch`, `Keras`, `Hugging Face`   |\n",
    "| **Autoencoder + Regressor**                      | Latent pattern extraction                   | Abstract embeddings                      | ⚠️ Medium                     | Unsupervised pretraining + supervised label prediction | `PyTorch`, `scikit-learn`            |\n",
    "| **TDE (Temporal Dictionary Ensemble)**           | Dictionary learning + regression            | Frequency/strength of learned shapes     | ✅ High                        | Detecting repeated motifs with outcome correlation     | `sktime`                             |\n"
   ]
  },
  {
   "cell_type": "code",
   "execution_count": null,
   "id": "eca03dc9",
   "metadata": {},
   "outputs": [],
   "source": []
  }
 ],
 "metadata": {
  "kernelspec": {
   "display_name": "Python 3",
   "language": "python",
   "name": "python3"
  },
  "language_info": {
   "codemirror_mode": {
    "name": "ipython",
    "version": 3
   },
   "file_extension": ".py",
   "mimetype": "text/x-python",
   "name": "python",
   "nbconvert_exporter": "python",
   "pygments_lexer": "ipython3",
   "version": "3.12.9"
  }
 },
 "nbformat": 4,
 "nbformat_minor": 5
}
