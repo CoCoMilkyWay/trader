{
 "cells": [
  {
   "cell_type": "code",
   "execution_count": null,
   "id": "4c21c044",
   "metadata": {},
   "outputs": [],
   "source": [
    "# we first use Tsfresh/Tsfel to generate some features to get a feel of what we are dealing with:\n",
    "#   1. Tsfresh takes n*(id, time, features) and len(id) labels as input:\n",
    "#   2. tsfresh doesn't test/preprocess anything about input timeseries, so you better make them stationary by yourselves\n",
    "#   3. id = independent timeseries, long or short\n",
    "#   4. each id has 1 label, which is against the notion that timeseries need to have timeseries label as well\n",
    "#   5. however, at each time stamp, we have short memory features and long memory features, for short memory features, it is actually equivalent to having a sliding window of short timeseries and output a series of scalar labels, which is exactly how tsfresh/tsfel works\n",
    "#   6. indeed, it might be the best practice to use these tools to generate short memory features and handcraft long memory/more hidden features\n",
    "#   7. these tools can not catch any cross-sectional features between ids. you can generate features for 1 id at a time, works exactly the same, it is just more computationally efficient for parallelism\n",
    "#   8. do features on long timeseries works equally well on its splitted many rolling short timeseries on average? not necessary\n",
    "#   9. thus how do you evaluate whether features generated like this work consistently over time? either averaging statistical performance or try to train a model(then compare model weights)\n",
    "#   10.try short->long window for feature importance(e.g. FFT doesn't work well on short window length)\n",
    "#   11.to evaluate the effect of a feature, dont need to have too many, have enough samples that can make sure feature is stationary and preferably normal distributed"
   ]
  },
  {
   "cell_type": "code",
   "execution_count": null,
   "id": "eca03dc9",
   "metadata": {},
   "outputs": [],
   "source": []
  }
 ],
 "metadata": {
  "language_info": {
   "name": "python"
  }
 },
 "nbformat": 4,
 "nbformat_minor": 5
}
