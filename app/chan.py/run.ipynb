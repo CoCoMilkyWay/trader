{
 "cells": [
  {
   "cell_type": "code",
   "execution_count": 1,
   "metadata": {},
   "outputs": [
    {
     "name": "stdout",
     "output_type": "stream",
     "text": [
      "Preparing dsb data ...\n",
      "Resampling ...\n"
     ]
    },
    {
     "name": "stderr",
     "output_type": "stream",
     "text": [
      "100%|██████████| 1/1 [00:00<00:00, 334.90it/s]"
     ]
    },
    {
     "name": "stdout",
     "output_type": "stream",
     "text": [
      "[]\n",
      "[]\n",
      "[]\n",
      "[]\n",
      "[]\n",
      "[]\n",
      "[]\n",
      "[]\n",
      "[]\n",
      "[]\n",
      "[]\n",
      "[]\n",
      "[]\n",
      "[]\n",
      "[]\n",
      "[]\n",
      "[]\n",
      "[<Chan.BuySellPoint.BS_Point.CBS_Point object at 0x000002211D3E37D0>]\n",
      "[<Chan.BuySellPoint.BS_Point.CBS_Point object at 0x000002211D3E3290>]\n",
      "[<Chan.BuySellPoint.BS_Point.CBS_Point object at 0x000002211D3E2D50>]\n",
      "[<Chan.BuySellPoint.BS_Point.CBS_Point object at 0x000002211D3E27D0>]\n",
      "[<Chan.BuySellPoint.BS_Point.CBS_Point object at 0x000002211D3E2250>]\n",
      "[<Chan.BuySellPoint.BS_Point.CBS_Point object at 0x000002211D3E1890>]\n",
      "[<Chan.BuySellPoint.BS_Point.CBS_Point object at 0x000002211D3E1190>]\n",
      "[<Chan.BuySellPoint.BS_Point.CBS_Point object at 0x000002211AD88D10>]\n",
      "[<Chan.BuySellPoint.BS_Point.CBS_Point object at 0x000002211D681CD0>]\n",
      "[<Chan.BuySellPoint.BS_Point.CBS_Point object at 0x000002211D681790>]\n",
      "[<Chan.BuySellPoint.BS_Point.CBS_Point object at 0x000002211D6811D0>, <Chan.BuySellPoint.BS_Point.CBS_Point object at 0x000002211D681150>]\n",
      "[<Chan.BuySellPoint.BS_Point.CBS_Point object at 0x000002211D680C90>, <Chan.BuySellPoint.BS_Point.CBS_Point object at 0x000002211D680AD0>]\n",
      "[<Chan.BuySellPoint.BS_Point.CBS_Point object at 0x000002211D6805D0>]\n",
      "[<Chan.BuySellPoint.BS_Point.CBS_Point object at 0x000002211D663C90>]\n",
      "[<Chan.BuySellPoint.BS_Point.CBS_Point object at 0x000002211D663810>]\n",
      "[<Chan.BuySellPoint.BS_Point.CBS_Point object at 0x000002211D662B90>]\n",
      "[<Chan.BuySellPoint.BS_Point.CBS_Point object at 0x000002211D662510>]\n",
      "[<Chan.BuySellPoint.BS_Point.CBS_Point object at 0x000002211D661FD0>]\n",
      "[<Chan.BuySellPoint.BS_Point.CBS_Point object at 0x000002211D661A10>, <Chan.BuySellPoint.BS_Point.CBS_Point object at 0x000002211D661A50>]\n",
      "[<Chan.BuySellPoint.BS_Point.CBS_Point object at 0x000002211D661590>, <Chan.BuySellPoint.BS_Point.CBS_Point object at 0x000002211D6613D0>]\n",
      "[<Chan.BuySellPoint.BS_Point.CBS_Point object at 0x000002211D3E1950>, <Chan.BuySellPoint.BS_Point.CBS_Point object at 0x000002211D3E1090>, <Chan.BuySellPoint.BS_Point.CBS_Point object at 0x000002211D3E0CD0>]\n",
      "[<Chan.BuySellPoint.BS_Point.CBS_Point object at 0x000002211D660D90>, <Chan.BuySellPoint.BS_Point.CBS_Point object at 0x000002211D660D50>, <Chan.BuySellPoint.BS_Point.CBS_Point object at 0x000002211D663D50>]\n",
      "[<Chan.BuySellPoint.BS_Point.CBS_Point object at 0x000002211D660490>, <Chan.BuySellPoint.BS_Point.CBS_Point object at 0x000002211D6604D0>, <Chan.BuySellPoint.BS_Point.CBS_Point object at 0x000002211D660590>]\n",
      "[<Chan.BuySellPoint.BS_Point.CBS_Point object at 0x000002211D6083D0>, <Chan.BuySellPoint.BS_Point.CBS_Point object at 0x000002211D608550>, <Chan.BuySellPoint.BS_Point.CBS_Point object at 0x000002211D608410>, <Chan.BuySellPoint.BS_Point.CBS_Point object at 0x000002211D608610>]\n",
      "[<Chan.BuySellPoint.BS_Point.CBS_Point object at 0x000002211D608390>, <Chan.BuySellPoint.BS_Point.CBS_Point object at 0x000002211D609610>, <Chan.BuySellPoint.BS_Point.CBS_Point object at 0x000002211D6096D0>, <Chan.BuySellPoint.BS_Point.CBS_Point object at 0x000002211D6094D0>]\n",
      "[<Chan.BuySellPoint.BS_Point.CBS_Point object at 0x000002211D609FD0>, <Chan.BuySellPoint.BS_Point.CBS_Point object at 0x000002211D60A090>, <Chan.BuySellPoint.BS_Point.CBS_Point object at 0x000002211D60A150>, <Chan.BuySellPoint.BS_Point.CBS_Point object at 0x000002211D609ED0>]\n",
      "[<Chan.BuySellPoint.BS_Point.CBS_Point object at 0x000002211D60A8D0>, <Chan.BuySellPoint.BS_Point.CBS_Point object at 0x000002211D60A990>, <Chan.BuySellPoint.BS_Point.CBS_Point object at 0x000002211D60AA50>, <Chan.BuySellPoint.BS_Point.CBS_Point object at 0x000002211D60A7D0>]\n",
      "[<Chan.BuySellPoint.BS_Point.CBS_Point object at 0x000002211D60B1D0>, <Chan.BuySellPoint.BS_Point.CBS_Point object at 0x000002211D60B290>, <Chan.BuySellPoint.BS_Point.CBS_Point object at 0x000002211D60B350>, <Chan.BuySellPoint.BS_Point.CBS_Point object at 0x000002211D60B0D0>]\n",
      "[<Chan.BuySellPoint.BS_Point.CBS_Point object at 0x000002211D60BA90>, <Chan.BuySellPoint.BS_Point.CBS_Point object at 0x000002211D60BB50>, <Chan.BuySellPoint.BS_Point.CBS_Point object at 0x000002211D60BC10>, <Chan.BuySellPoint.BS_Point.CBS_Point object at 0x000002211D60B990>]\n",
      "[<Chan.BuySellPoint.BS_Point.CBS_Point object at 0x000002211D660750>, <Chan.BuySellPoint.BS_Point.CBS_Point object at 0x000002211D680550>, <Chan.BuySellPoint.BS_Point.CBS_Point object at 0x000002211D6813D0>, <Chan.BuySellPoint.BS_Point.CBS_Point object at 0x000002211D660710>, <Chan.BuySellPoint.BS_Point.CBS_Point object at 0x000002211D608090>]\n",
      "[<Chan.BuySellPoint.BS_Point.CBS_Point object at 0x000002211D60A490>, <Chan.BuySellPoint.BS_Point.CBS_Point object at 0x000002211D603C90>, <Chan.BuySellPoint.BS_Point.CBS_Point object at 0x000002211D603D90>, <Chan.BuySellPoint.BS_Point.CBS_Point object at 0x000002211C39DFD0>, <Chan.BuySellPoint.BS_Point.CBS_Point object at 0x000002211D603B10>]\n",
      "[<Chan.BuySellPoint.BS_Point.CBS_Point object at 0x000002211D603890>, <Chan.BuySellPoint.BS_Point.CBS_Point object at 0x000002211D603850>, <Chan.BuySellPoint.BS_Point.CBS_Point object at 0x000002211D6038D0>, <Chan.BuySellPoint.BS_Point.CBS_Point object at 0x000002211D6037D0>, <Chan.BuySellPoint.BS_Point.CBS_Point object at 0x000002211D603650>]\n",
      "[<Chan.BuySellPoint.BS_Point.CBS_Point object at 0x000002211D602D90>, <Chan.BuySellPoint.BS_Point.CBS_Point object at 0x000002211D602D50>, <Chan.BuySellPoint.BS_Point.CBS_Point object at 0x000002211D602DD0>, <Chan.BuySellPoint.BS_Point.CBS_Point object at 0x000002211D602CD0>, <Chan.BuySellPoint.BS_Point.CBS_Point object at 0x000002211D602B50>]\n",
      "[<Chan.BuySellPoint.BS_Point.CBS_Point object at 0x000002211D6024D0>, <Chan.BuySellPoint.BS_Point.CBS_Point object at 0x000002211D602490>, <Chan.BuySellPoint.BS_Point.CBS_Point object at 0x000002211D602510>, <Chan.BuySellPoint.BS_Point.CBS_Point object at 0x000002211D602410>, <Chan.BuySellPoint.BS_Point.CBS_Point object at 0x000002211D602290>]\n",
      "[<Chan.BuySellPoint.BS_Point.CBS_Point object at 0x000002211D601DD0>, <Chan.BuySellPoint.BS_Point.CBS_Point object at 0x000002211D601D90>, <Chan.BuySellPoint.BS_Point.CBS_Point object at 0x000002211D601E10>, <Chan.BuySellPoint.BS_Point.CBS_Point object at 0x000002211D601D10>, <Chan.BuySellPoint.BS_Point.CBS_Point object at 0x000002211D601B50>]\n",
      "[<Chan.BuySellPoint.BS_Point.CBS_Point object at 0x000002211D6016D0>, <Chan.BuySellPoint.BS_Point.CBS_Point object at 0x000002211D601690>, <Chan.BuySellPoint.BS_Point.CBS_Point object at 0x000002211D601710>, <Chan.BuySellPoint.BS_Point.CBS_Point object at 0x000002211D601610>, <Chan.BuySellPoint.BS_Point.CBS_Point object at 0x000002211D601450>]\n",
      "[<Chan.BuySellPoint.BS_Point.CBS_Point object at 0x000002211D601010>, <Chan.BuySellPoint.BS_Point.CBS_Point object at 0x000002211D600FD0>, <Chan.BuySellPoint.BS_Point.CBS_Point object at 0x000002211D601050>, <Chan.BuySellPoint.BS_Point.CBS_Point object at 0x000002211D600F50>, <Chan.BuySellPoint.BS_Point.CBS_Point object at 0x000002211D600D90>]\n",
      "[<Chan.BuySellPoint.BS_Point.CBS_Point object at 0x000002211D600890>, <Chan.BuySellPoint.BS_Point.CBS_Point object at 0x000002211D600850>, <Chan.BuySellPoint.BS_Point.CBS_Point object at 0x000002211D6008D0>, <Chan.BuySellPoint.BS_Point.CBS_Point object at 0x000002211D6007D0>, <Chan.BuySellPoint.BS_Point.CBS_Point object at 0x000002211D6005D0>]\n",
      "[<Chan.BuySellPoint.BS_Point.CBS_Point object at 0x000002211D600110>, <Chan.BuySellPoint.BS_Point.CBS_Point object at 0x000002211D600150>, <Chan.BuySellPoint.BS_Point.CBS_Point object at 0x000002211D658150>, <Chan.BuySellPoint.BS_Point.CBS_Point object at 0x000002211D600050>, <Chan.BuySellPoint.BS_Point.CBS_Point object at 0x000002211D658D10>, <Chan.BuySellPoint.BS_Point.CBS_Point object at 0x000002211D658C90>]\n",
      "[<Chan.BuySellPoint.BS_Point.CBS_Point object at 0x000002211D601B50>, <Chan.BuySellPoint.BS_Point.CBS_Point object at 0x000002211D601250>, <Chan.BuySellPoint.BS_Point.CBS_Point object at 0x000002211D6024D0>, <Chan.BuySellPoint.BS_Point.CBS_Point object at 0x000002211D601B10>, <Chan.BuySellPoint.BS_Point.CBS_Point object at 0x000002211D602B10>, <Chan.BuySellPoint.BS_Point.CBS_Point object at 0x000002211D602590>]\n",
      "[<Chan.BuySellPoint.BS_Point.CBS_Point object at 0x000002211D601D90>, <Chan.BuySellPoint.BS_Point.CBS_Point object at 0x000002211D600D90>, <Chan.BuySellPoint.BS_Point.CBS_Point object at 0x000002211D600D10>, <Chan.BuySellPoint.BS_Point.CBS_Point object at 0x000002211D6003D0>, <Chan.BuySellPoint.BS_Point.CBS_Point object at 0x000002211D60A7D0>, <Chan.BuySellPoint.BS_Point.CBS_Point object at 0x000002211D600B90>]\n",
      "[<Chan.BuySellPoint.BS_Point.CBS_Point object at 0x000002211D60A790>, <Chan.BuySellPoint.BS_Point.CBS_Point object at 0x000002211D60B990>, <Chan.BuySellPoint.BS_Point.CBS_Point object at 0x000002211D60AED0>, <Chan.BuySellPoint.BS_Point.CBS_Point object at 0x000002211D60BB90>, <Chan.BuySellPoint.BS_Point.CBS_Point object at 0x000002211D60ACD0>]\n",
      "[<Chan.BuySellPoint.BS_Point.CBS_Point object at 0x000002211C3A7750>, <Chan.BuySellPoint.BS_Point.CBS_Point object at 0x000002211D608ED0>, <Chan.BuySellPoint.BS_Point.CBS_Point object at 0x000002211D608F90>, <Chan.BuySellPoint.BS_Point.CBS_Point object at 0x000002211D609ED0>, <Chan.BuySellPoint.BS_Point.CBS_Point object at 0x000002211D609650>]\n",
      "[<Chan.BuySellPoint.BS_Point.CBS_Point object at 0x000002211D660050>, <Chan.BuySellPoint.BS_Point.CBS_Point object at 0x000002211D660590>, <Chan.BuySellPoint.BS_Point.CBS_Point object at 0x000002211D6606D0>, <Chan.BuySellPoint.BS_Point.CBS_Point object at 0x000002211D660790>, <Chan.BuySellPoint.BS_Point.CBS_Point object at 0x000002211D661590>]\n",
      "[<Chan.BuySellPoint.BS_Point.CBS_Point object at 0x000002211D658790>, <Chan.BuySellPoint.BS_Point.CBS_Point object at 0x000002211D658850>, <Chan.BuySellPoint.BS_Point.CBS_Point object at 0x000002211D658A50>, <Chan.BuySellPoint.BS_Point.CBS_Point object at 0x000002211D6587D0>, <Chan.BuySellPoint.BS_Point.CBS_Point object at 0x000002211D659250>, <Chan.BuySellPoint.BS_Point.CBS_Point object at 0x000002211D659710>]\n",
      "[<Chan.BuySellPoint.BS_Point.CBS_Point object at 0x000002211D659A10>, <Chan.BuySellPoint.BS_Point.CBS_Point object at 0x000002211D659A50>, <Chan.BuySellPoint.BS_Point.CBS_Point object at 0x000002211D659CD0>, <Chan.BuySellPoint.BS_Point.CBS_Point object at 0x000002211D6599D0>, <Chan.BuySellPoint.BS_Point.CBS_Point object at 0x000002211D659D10>, <Chan.BuySellPoint.BS_Point.CBS_Point object at 0x000002211D65A610>]\n",
      "[<Chan.BuySellPoint.BS_Point.CBS_Point object at 0x000002211D659F50>, <Chan.BuySellPoint.BS_Point.CBS_Point object at 0x000002211D65A010>, <Chan.BuySellPoint.BS_Point.CBS_Point object at 0x000002211D65A350>, <Chan.BuySellPoint.BS_Point.CBS_Point object at 0x000002211D65A090>, <Chan.BuySellPoint.BS_Point.CBS_Point object at 0x000002211D65A390>, <Chan.BuySellPoint.BS_Point.CBS_Point object at 0x000002211D65AC90>]\n",
      "[<Chan.BuySellPoint.BS_Point.CBS_Point object at 0x000002211D65A750>, <Chan.BuySellPoint.BS_Point.CBS_Point object at 0x000002211D65A710>, <Chan.BuySellPoint.BS_Point.CBS_Point object at 0x000002211D65AA90>, <Chan.BuySellPoint.BS_Point.CBS_Point object at 0x000002211D65A7D0>, <Chan.BuySellPoint.BS_Point.CBS_Point object at 0x000002211D65AAD0>, <Chan.BuySellPoint.BS_Point.CBS_Point object at 0x000002211D65B710>]\n",
      "[<Chan.BuySellPoint.BS_Point.CBS_Point object at 0x000002211D65B0D0>, <Chan.BuySellPoint.BS_Point.CBS_Point object at 0x000002211D65B090>, <Chan.BuySellPoint.BS_Point.CBS_Point object at 0x000002211D65B490>, <Chan.BuySellPoint.BS_Point.CBS_Point object at 0x000002211D65B150>, <Chan.BuySellPoint.BS_Point.CBS_Point object at 0x000002211D65B4D0>, <Chan.BuySellPoint.BS_Point.CBS_Point object at 0x000002211D65BED0>, <Chan.BuySellPoint.BS_Point.CBS_Point object at 0x000002211D65BFD0>]\n",
      "[<Chan.BuySellPoint.BS_Point.CBS_Point object at 0x000002211D65B890>, <Chan.BuySellPoint.BS_Point.CBS_Point object at 0x000002211D65B850>, <Chan.BuySellPoint.BS_Point.CBS_Point object at 0x000002211D65BD50>, <Chan.BuySellPoint.BS_Point.CBS_Point object at 0x000002211D65B910>, <Chan.BuySellPoint.BS_Point.CBS_Point object at 0x000002211D65BC10>, <Chan.BuySellPoint.BS_Point.CBS_Point object at 0x000002211D65BC90>, <Chan.BuySellPoint.BS_Point.CBS_Point object at 0x000002211D644790>]\n",
      "[<Chan.BuySellPoint.BS_Point.CBS_Point object at 0x000002211D644110>, <Chan.BuySellPoint.BS_Point.CBS_Point object at 0x000002211D6440D0>, <Chan.BuySellPoint.BS_Point.CBS_Point object at 0x000002211D644590>, <Chan.BuySellPoint.BS_Point.CBS_Point object at 0x000002211D644190>, <Chan.BuySellPoint.BS_Point.CBS_Point object at 0x000002211D644450>, <Chan.BuySellPoint.BS_Point.CBS_Point object at 0x000002211D6444D0>, <Chan.BuySellPoint.BS_Point.CBS_Point object at 0x000002211D644F10>]\n",
      "[<Chan.BuySellPoint.BS_Point.CBS_Point object at 0x000002211D601810>, <Chan.BuySellPoint.BS_Point.CBS_Point object at 0x000002211D6449D0>, <Chan.BuySellPoint.BS_Point.CBS_Point object at 0x000002211D644950>, <Chan.BuySellPoint.BS_Point.CBS_Point object at 0x000002211D659910>, <Chan.BuySellPoint.BS_Point.CBS_Point object at 0x000002211D644CD0>, <Chan.BuySellPoint.BS_Point.CBS_Point object at 0x000002211D644B10>, <Chan.BuySellPoint.BS_Point.CBS_Point object at 0x000002211D645610>]\n",
      "[<Chan.BuySellPoint.BS_Point.CBS_Point object at 0x000002211D644F90>, <Chan.BuySellPoint.BS_Point.CBS_Point object at 0x000002211D644E50>, <Chan.BuySellPoint.BS_Point.CBS_Point object at 0x000002211D6452D0>, <Chan.BuySellPoint.BS_Point.CBS_Point object at 0x000002211D645010>, <Chan.BuySellPoint.BS_Point.CBS_Point object at 0x000002211D645310>, <Chan.BuySellPoint.BS_Point.CBS_Point object at 0x000002211D6461D0>, <Chan.BuySellPoint.BS_Point.CBS_Point object at 0x000002211D646250>]\n",
      "[<Chan.BuySellPoint.BS_Point.CBS_Point object at 0x000002211D645B90>, <Chan.BuySellPoint.BS_Point.CBS_Point object at 0x000002211D645B50>, <Chan.BuySellPoint.BS_Point.CBS_Point object at 0x000002211D645F90>, <Chan.BuySellPoint.BS_Point.CBS_Point object at 0x000002211D645C50>, <Chan.BuySellPoint.BS_Point.CBS_Point object at 0x000002211D645FD0>, <Chan.BuySellPoint.BS_Point.CBS_Point object at 0x000002211D646B10>, <Chan.BuySellPoint.BS_Point.CBS_Point object at 0x000002211D646B90>, <Chan.BuySellPoint.BS_Point.CBS_Point object at 0x000002211D646CD0>]\n",
      "[<Chan.BuySellPoint.BS_Point.CBS_Point object at 0x000002211D6464D0>, <Chan.BuySellPoint.BS_Point.CBS_Point object at 0x000002211D646490>, <Chan.BuySellPoint.BS_Point.CBS_Point object at 0x000002211D646990>, <Chan.BuySellPoint.BS_Point.CBS_Point object at 0x000002211D646590>, <Chan.BuySellPoint.BS_Point.CBS_Point object at 0x000002211D646890>, <Chan.BuySellPoint.BS_Point.CBS_Point object at 0x000002211D646910>, <Chan.BuySellPoint.BS_Point.CBS_Point object at 0x000002211D647290>, <Chan.BuySellPoint.BS_Point.CBS_Point object at 0x000002211D647410>]\n",
      "[<Chan.BuySellPoint.BS_Point.CBS_Point object at 0x000002211D646350>, <Chan.BuySellPoint.BS_Point.CBS_Point object at 0x000002211D646290>, <Chan.BuySellPoint.BS_Point.CBS_Point object at 0x000002211D647190>, <Chan.BuySellPoint.BS_Point.CBS_Point object at 0x000002211D646DD0>, <Chan.BuySellPoint.BS_Point.CBS_Point object at 0x000002211D647090>, <Chan.BuySellPoint.BS_Point.CBS_Point object at 0x000002211D647110>, <Chan.BuySellPoint.BS_Point.CBS_Point object at 0x000002211D647DD0>, <Chan.BuySellPoint.BS_Point.CBS_Point object at 0x000002211D647F50>]\n",
      "[<Chan.BuySellPoint.BS_Point.CBS_Point object at 0x000002211D647810>, <Chan.BuySellPoint.BS_Point.CBS_Point object at 0x000002211D6477D0>, <Chan.BuySellPoint.BS_Point.CBS_Point object at 0x000002211D647C90>, <Chan.BuySellPoint.BS_Point.CBS_Point object at 0x000002211D6478D0>, <Chan.BuySellPoint.BS_Point.CBS_Point object at 0x000002211D647B90>, <Chan.BuySellPoint.BS_Point.CBS_Point object at 0x000002211D647C10>, <Chan.BuySellPoint.BS_Point.CBS_Point object at 0x000002211D673A10>, <Chan.BuySellPoint.BS_Point.CBS_Point object at 0x000002211D673890>]\n",
      "[<Chan.BuySellPoint.BS_Point.CBS_Point object at 0x000002211D647050>, <Chan.BuySellPoint.BS_Point.CBS_Point object at 0x000002211D673F90>, <Chan.BuySellPoint.BS_Point.CBS_Point object at 0x000002211D673FD0>, <Chan.BuySellPoint.BS_Point.CBS_Point object at 0x000002211D6473D0>, <Chan.BuySellPoint.BS_Point.CBS_Point object at 0x000002211D673DD0>, <Chan.BuySellPoint.BS_Point.CBS_Point object at 0x000002211D673E10>, <Chan.BuySellPoint.BS_Point.CBS_Point object at 0x000002211D673BD0>, <Chan.BuySellPoint.BS_Point.CBS_Point object at 0x000002211D673110>]\n",
      "[<Chan.BuySellPoint.BS_Point.CBS_Point object at 0x000002211D659D90>, <Chan.BuySellPoint.BS_Point.CBS_Point object at 0x000002211D673650>, <Chan.BuySellPoint.BS_Point.CBS_Point object at 0x000002211D673790>, <Chan.BuySellPoint.BS_Point.CBS_Point object at 0x000002211D644D90>, <Chan.BuySellPoint.BS_Point.CBS_Point object at 0x000002211D673350>, <Chan.BuySellPoint.BS_Point.CBS_Point object at 0x000002211D673510>, <Chan.BuySellPoint.BS_Point.CBS_Point object at 0x000002211D673610>, <Chan.BuySellPoint.BS_Point.CBS_Point object at 0x000002211D672AD0>]\n",
      "[<Chan.BuySellPoint.BS_Point.CBS_Point object at 0x000002211D6730D0>, <Chan.BuySellPoint.BS_Point.CBS_Point object at 0x000002211D673010>, <Chan.BuySellPoint.BS_Point.CBS_Point object at 0x000002211D6738D0>, <Chan.BuySellPoint.BS_Point.CBS_Point object at 0x000002211D672FD0>, <Chan.BuySellPoint.BS_Point.CBS_Point object at 0x000002211D672E90>, <Chan.BuySellPoint.BS_Point.CBS_Point object at 0x000002211D672C90>, <Chan.BuySellPoint.BS_Point.CBS_Point object at 0x000002211D6723D0>, <Chan.BuySellPoint.BS_Point.CBS_Point object at 0x000002211D672290>]\n",
      "[<Chan.BuySellPoint.BS_Point.CBS_Point object at 0x000002211D647010>, <Chan.BuySellPoint.BS_Point.CBS_Point object at 0x000002211D672810>, <Chan.BuySellPoint.BS_Point.CBS_Point object at 0x000002211D6728D0>, <Chan.BuySellPoint.BS_Point.CBS_Point object at 0x000002211D672910>, <Chan.BuySellPoint.BS_Point.CBS_Point object at 0x000002211D672390>, <Chan.BuySellPoint.BS_Point.CBS_Point object at 0x000002211D672610>, <Chan.BuySellPoint.BS_Point.CBS_Point object at 0x000002211D673BD0>, <Chan.BuySellPoint.BS_Point.CBS_Point object at 0x000002211D671790>]\n",
      "[<Chan.BuySellPoint.BS_Point.CBS_Point object at 0x000002211D6478D0>, <Chan.BuySellPoint.BS_Point.CBS_Point object at 0x000002211D647990>, <Chan.BuySellPoint.BS_Point.CBS_Point object at 0x000002211D647FD0>, <Chan.BuySellPoint.BS_Point.CBS_Point object at 0x000002211D647D50>, <Chan.BuySellPoint.BS_Point.CBS_Point object at 0x000002211D646E90>, <Chan.BuySellPoint.BS_Point.CBS_Point object at 0x000002211D646250>, <Chan.BuySellPoint.BS_Point.CBS_Point object at 0x000002211D647410>, <Chan.BuySellPoint.BS_Point.CBS_Point object at 0x000002211D646590>]\n",
      "[<Chan.BuySellPoint.BS_Point.CBS_Point object at 0x000002211D646050>, <Chan.BuySellPoint.BS_Point.CBS_Point object at 0x000002211D65B910>, <Chan.BuySellPoint.BS_Point.CBS_Point object at 0x000002211D65BFD0>, <Chan.BuySellPoint.BS_Point.CBS_Point object at 0x000002211D644D90>, <Chan.BuySellPoint.BS_Point.CBS_Point object at 0x000002211D65B150>, <Chan.BuySellPoint.BS_Point.CBS_Point object at 0x000002211D65B050>, <Chan.BuySellPoint.BS_Point.CBS_Point object at 0x000002211D65A790>, <Chan.BuySellPoint.BS_Point.CBS_Point object at 0x000002211D658790>]\n"
     ]
    },
    {
     "name": "stderr",
     "output_type": "stream",
     "text": [
      "\n"
     ]
    }
   ],
   "source": [
    "%load_ext autoreload\n",
    "%autoreload 2\n",
    "%matplotlib inline\n",
    "import os, sys\n",
    "from Chan.Chan import CChan\n",
    "from Chan.ChanConfig import CChanConfig\n",
    "from Chan.Common.CEnum import DATA_SRC, KL_TYPE, KL_TYPE, AUTYPE\n",
    "sys.path.append(\"../../\")\n",
    "\n",
    "def main():\n",
    "    code = \"sz.000001\"\n",
    "    begin_time = \"2024-03-27\"\n",
    "    end_time = \"2024-04-02\"\n",
    "    data_src = DATA_SRC.WT\n",
    "    lv_list = [KL_TYPE.K_60M]\n",
    "\n",
    "    config = CChanConfig({\n",
    "        \"trigger_step\": True,\n",
    "    })\n",
    "    chan = CChan(\n",
    "        code=code,\n",
    "        begin_time=begin_time,\n",
    "        end_time=end_time,\n",
    "        data_src=data_src,\n",
    "        lv_list=lv_list,\n",
    "        config=config,\n",
    "        autype=AUTYPE.QFQ,\n",
    "    )\n",
    "    for chan_snapshot in chan.step_load():\n",
    "        bsp_list = chan_snapshot.get_bsp()\n",
    "        print(bsp_list)\n",
    "        \n",
    "        \n",
    "if __name__ == \"__main__\":\n",
    "    main()"
   ]
  }
 ],
 "metadata": {
  "kernelspec": {
   "display_name": "Python 3",
   "language": "python",
   "name": "python3"
  },
  "language_info": {
   "codemirror_mode": {
    "name": "ipython",
    "version": 3
   },
   "file_extension": ".py",
   "mimetype": "text/x-python",
   "name": "python",
   "nbconvert_exporter": "python",
   "pygments_lexer": "ipython3",
   "version": "3.11.9"
  }
 },
 "nbformat": 4,
 "nbformat_minor": 2
}
